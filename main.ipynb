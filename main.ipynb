{
 "cells": [
  {
   "cell_type": "code",
   "execution_count": 1,
   "metadata": {},
   "outputs": [
    {
     "name": "stderr",
     "output_type": "stream",
     "text": [
      "/usr/local/lib/python3.5/dist-packages/h5py/__init__.py:36: FutureWarning: Conversion of the second argument of issubdtype from `float` to `np.floating` is deprecated. In future, it will be treated as `np.float64 == np.dtype(float).type`.\n",
      "  from ._conv import register_converters as _register_converters\n"
     ]
    }
   ],
   "source": [
    "import numpy as np\n",
    "import os\n",
    "import math\n",
    "import pandas as pd\n",
    "import matplotlib.pyplot as plt\n",
    "from scipy import misc\n",
    "from sklearn.model_selection import train_test_split\n",
    "from sklearn.preprocessing import LabelBinarizer\n",
    "from sklearn.metrics import confusion_matrix\n",
    "from sklearn.metrics import f1_score\n",
    "\n",
    "\n",
    "from matplotlib.pyplot import imshow\n",
    "from PIL import Image\n",
    "from __future__ import print_function\n",
    "from sklearn.utils import shuffle\n",
    "import cv2\n",
    "import h5py\n",
    "%matplotlib inline"
   ]
  },
  {
   "cell_type": "code",
   "execution_count": 2,
   "metadata": {},
   "outputs": [
    {
     "name": "stderr",
     "output_type": "stream",
     "text": [
      "Using TensorFlow backend.\n"
     ]
    }
   ],
   "source": [
    "from keras.models import Sequential\n",
    "from keras.layers.core import Dense, Activation, Flatten, Dropout\n",
    "from keras.layers.convolutional import Convolution2D\n",
    "from keras.layers.pooling import MaxPooling2D\n",
    "import keras\n",
    "from keras.models import load_model\n",
    "from keras.preprocessing.image import ImageDataGenerator\n",
    "import tensorflow as tf"
   ]
  },
  {
   "cell_type": "code",
   "execution_count": 3,
   "metadata": {},
   "outputs": [],
   "source": [
    "from sklearn.model_selection  import GridSearchCV"
   ]
  },
  {
   "cell_type": "code",
   "execution_count": 4,
   "metadata": {},
   "outputs": [],
   "source": [
    "if not os.path.exists('models'):\n",
    "    os.makedirs('models')\n",
    "    \n",
    "if not os.path.exists('submissions'):\n",
    "    os.makedirs('submissions')\n",
    "    \n",
    "if not os.path.exists('weights'):\n",
    "    os.makedirs('weights')"
   ]
  },
  {
   "cell_type": "code",
   "execution_count": 5,
   "metadata": {},
   "outputs": [],
   "source": [
    "def data_train_extraction(folder_train):\n",
    "        labels = [x[0].split('/')[-1] for x in os.walk(folder_train)][1:]\n",
    "        TRAIN_FOLDER_ALL = [folder_train + '/' + x for x in labels]\n",
    "\n",
    "        full_labels = list()\n",
    "        imagepaths = list()\n",
    "\n",
    "        n = 0\n",
    "        for label in labels:\n",
    "            for x in os.walk(TRAIN_FOLDER_ALL[n]):\n",
    "                for y in x[2]:\n",
    "                    imagepaths.append(TRAIN_FOLDER_ALL[n]+'/'+y)\n",
    "                    full_labels.append(n)\n",
    "\n",
    "            n += 1\n",
    "\n",
    "        return imagepaths, full_labels, labels\n",
    "\n",
    "def data_test_extraction(folder_test):\n",
    "    images_test = [x for x in os.walk(folder_test)][0][2]\n",
    "    TEST_FOLDER_ALL = [folder_test + '/' + x for x in images_test]\n",
    "\n",
    "    return TEST_FOLDER_ALL\n",
    "\n",
    "def load_m(model_n):\n",
    "    model_l = load_model('models/{}.h5'.format(model_n))\n",
    "    model_l.load_weights('weights/{}.h5'.format(model_n))\n",
    "    return model_l\n",
    "\n",
    "def submit(model, data, sub_name):\n",
    "    path_test = [df_test['path'][i].split('/')[-1] for i in range(len(df_test['path']))]\n",
    "    pr1 = model.predict(data)\n",
    "    pr2 = label_binarizer.inverse_transform(pr1)\n",
    "    names_pr = [number_to_names[str(i)] for i in pr2]\n",
    "    submiss = pd.DataFrame({'file': path_test, 'species': names_pr})\n",
    "    submiss.to_csv('submissions/{}'.format(sub_name), index=None)\n",
    "    \n",
    "def create_mask_for_plant(image):\n",
    "    image_hsv = cv2.cvtColor(image, cv2.COLOR_BGR2HSV)\n",
    "\n",
    "    sensitivity = 35\n",
    "    lower_hsv = np.array([60 - sensitivity, 100, 50])\n",
    "    upper_hsv = np.array([60 + sensitivity, 255, 255])\n",
    "\n",
    "    mask = cv2.inRange(image_hsv, lower_hsv, upper_hsv)\n",
    "    kernel = cv2.getStructuringElement(cv2.MORPH_ELLIPSE, (11,11))\n",
    "    mask = cv2.morphologyEx(mask, cv2.MORPH_CLOSE, kernel)\n",
    "    \n",
    "    return mask\n",
    "    \n",
    "def proc_image0(image):\n",
    "    mask = create_mask_for_plant(image)\n",
    "    output = cv2.bitwise_and(image, image, mask = mask)\n",
    "    return output\n",
    "    \n",
    "def proc_image1(image):\n",
    "    image_blurred = cv2.GaussianBlur(image, (0, 0), 3)\n",
    "    image_sharp = cv2.addWeighted(image, 1.5, image_blurred, -0.5, 0)\n",
    "    return image_sharp"
   ]
  },
  {
   "cell_type": "code",
   "execution_count": 6,
   "metadata": {
    "collapsed": true
   },
   "outputs": [],
   "source": [
    "imagepaths, full_labels, labels = data_train_extraction('data/train')"
   ]
  },
  {
   "cell_type": "code",
   "execution_count": 7,
   "metadata": {
    "collapsed": true
   },
   "outputs": [],
   "source": [
    "TEST_FOLDER_ALL = data_test_extraction('data/test')"
   ]
  },
  {
   "cell_type": "code",
   "execution_count": 8,
   "metadata": {},
   "outputs": [
    {
     "data": {
      "text/plain": [
       "['data/test/d0152bd7c.png',\n",
       " 'data/test/fba8fc78a.png',\n",
       " 'data/test/b573b7a56.png',\n",
       " 'data/test/bebcaab66.png',\n",
       " 'data/test/90d119d25.png',\n",
       " 'data/test/8e29abce1.png',\n",
       " 'data/test/7d3045fc3.png',\n",
       " 'data/test/b4f7c9214.png',\n",
       " 'data/test/5817b766d.png',\n",
       " 'data/test/19fdf19fb.png']"
      ]
     },
     "execution_count": 8,
     "metadata": {},
     "output_type": "execute_result"
    }
   ],
   "source": [
    "TEST_FOLDER_ALL[:10]"
   ]
  },
  {
   "cell_type": "code",
   "execution_count": 9,
   "metadata": {},
   "outputs": [
    {
     "data": {
      "text/plain": [
       "['data/train/Common-wheat/2c4813e68.png',\n",
       " 'data/train/Common-wheat/df584ca28.png',\n",
       " 'data/train/Common-wheat/2f45d4b13.png',\n",
       " 'data/train/Common-wheat/42098546c.png',\n",
       " 'data/train/Common-wheat/96183ee02.png',\n",
       " 'data/train/Common-wheat/4954fcb0d.png',\n",
       " 'data/train/Common-wheat/cac003231.png',\n",
       " 'data/train/Common-wheat/ec0d252e7.png',\n",
       " 'data/train/Common-wheat/b398cfd9b.png',\n",
       " 'data/train/Common-wheat/79f70b2d7.png']"
      ]
     },
     "execution_count": 9,
     "metadata": {},
     "output_type": "execute_result"
    }
   ],
   "source": [
    "imagepaths[:10]"
   ]
  },
  {
   "cell_type": "code",
   "execution_count": 10,
   "metadata": {},
   "outputs": [
    {
     "data": {
      "text/plain": [
       "[0, 0, 0, 0, 0, 0, 0, 0, 0, 0]"
      ]
     },
     "execution_count": 10,
     "metadata": {},
     "output_type": "execute_result"
    }
   ],
   "source": [
    "full_labels[:10]"
   ]
  },
  {
   "cell_type": "code",
   "execution_count": 11,
   "metadata": {},
   "outputs": [
    {
     "data": {
      "text/plain": [
       "['Common-wheat',\n",
       " 'Fat-Hen',\n",
       " 'Small-flowered-Cranesbill',\n",
       " 'Maize',\n",
       " 'Scentless-Mayweed',\n",
       " 'Cleavers',\n",
       " 'Charlock',\n",
       " 'Sugar-beet',\n",
       " 'Shepherds-Purse',\n",
       " 'Black-grass',\n",
       " 'Common-Chickweed',\n",
       " 'Loose-Silky-bent']"
      ]
     },
     "execution_count": 11,
     "metadata": {},
     "output_type": "execute_result"
    }
   ],
   "source": [
    "labels"
   ]
  },
  {
   "cell_type": "code",
   "execution_count": 20,
   "metadata": {
    "collapsed": true
   },
   "outputs": [],
   "source": [
    "train = {'path': imagepaths, 'label': full_labels}\n",
    "train = pd.DataFrame(train)"
   ]
  },
  {
   "cell_type": "code",
   "execution_count": 21,
   "metadata": {
    "scrolled": true
   },
   "outputs": [
    {
     "data": {
      "text/html": [
       "<div>\n",
       "<table border=\"1\" class=\"dataframe\">\n",
       "  <thead>\n",
       "    <tr style=\"text-align: right;\">\n",
       "      <th></th>\n",
       "      <th>label</th>\n",
       "      <th>path</th>\n",
       "    </tr>\n",
       "  </thead>\n",
       "  <tbody>\n",
       "    <tr>\n",
       "      <th>0</th>\n",
       "      <td>0</td>\n",
       "      <td>data/train/Common-wheat/2c4813e68.png</td>\n",
       "    </tr>\n",
       "    <tr>\n",
       "      <th>1</th>\n",
       "      <td>0</td>\n",
       "      <td>data/train/Common-wheat/df584ca28.png</td>\n",
       "    </tr>\n",
       "    <tr>\n",
       "      <th>2</th>\n",
       "      <td>0</td>\n",
       "      <td>data/train/Common-wheat/2f45d4b13.png</td>\n",
       "    </tr>\n",
       "    <tr>\n",
       "      <th>3</th>\n",
       "      <td>0</td>\n",
       "      <td>data/train/Common-wheat/42098546c.png</td>\n",
       "    </tr>\n",
       "    <tr>\n",
       "      <th>4</th>\n",
       "      <td>0</td>\n",
       "      <td>data/train/Common-wheat/96183ee02.png</td>\n",
       "    </tr>\n",
       "  </tbody>\n",
       "</table>\n",
       "</div>"
      ],
      "text/plain": [
       "   label                                   path\n",
       "0      0  data/train/Common-wheat/2c4813e68.png\n",
       "1      0  data/train/Common-wheat/df584ca28.png\n",
       "2      0  data/train/Common-wheat/2f45d4b13.png\n",
       "3      0  data/train/Common-wheat/42098546c.png\n",
       "4      0  data/train/Common-wheat/96183ee02.png"
      ]
     },
     "execution_count": 21,
     "metadata": {},
     "output_type": "execute_result"
    }
   ],
   "source": [
    "train.head()"
   ]
  },
  {
   "cell_type": "code",
   "execution_count": 22,
   "metadata": {
    "collapsed": true
   },
   "outputs": [],
   "source": [
    "test = {'path': TEST_FOLDER_ALL}\n",
    "test = pd.DataFrame(test)"
   ]
  },
  {
   "cell_type": "code",
   "execution_count": 23,
   "metadata": {},
   "outputs": [
    {
     "data": {
      "text/html": [
       "<div>\n",
       "<table border=\"1\" class=\"dataframe\">\n",
       "  <thead>\n",
       "    <tr style=\"text-align: right;\">\n",
       "      <th></th>\n",
       "      <th>path</th>\n",
       "    </tr>\n",
       "  </thead>\n",
       "  <tbody>\n",
       "    <tr>\n",
       "      <th>0</th>\n",
       "      <td>data/test/d0152bd7c.png</td>\n",
       "    </tr>\n",
       "    <tr>\n",
       "      <th>1</th>\n",
       "      <td>data/test/fba8fc78a.png</td>\n",
       "    </tr>\n",
       "    <tr>\n",
       "      <th>2</th>\n",
       "      <td>data/test/b573b7a56.png</td>\n",
       "    </tr>\n",
       "    <tr>\n",
       "      <th>3</th>\n",
       "      <td>data/test/bebcaab66.png</td>\n",
       "    </tr>\n",
       "    <tr>\n",
       "      <th>4</th>\n",
       "      <td>data/test/90d119d25.png</td>\n",
       "    </tr>\n",
       "  </tbody>\n",
       "</table>\n",
       "</div>"
      ],
      "text/plain": [
       "                      path\n",
       "0  data/test/d0152bd7c.png\n",
       "1  data/test/fba8fc78a.png\n",
       "2  data/test/b573b7a56.png\n",
       "3  data/test/bebcaab66.png\n",
       "4  data/test/90d119d25.png"
      ]
     },
     "execution_count": 23,
     "metadata": {},
     "output_type": "execute_result"
    }
   ],
   "source": [
    "test.head()"
   ]
  },
  {
   "cell_type": "code",
   "execution_count": 6,
   "metadata": {},
   "outputs": [],
   "source": [
    "if not os.path.exists('data/df_data'):\n",
    "    os.makedirs('data/df_data')\n",
    "    \n",
    "if not os.path.isfile('data/df_data/train.csv'):\n",
    "    train.to_csv('data/df_data/train.csv', index=False)\n",
    "else:\n",
    "    df_train = pd.read_csv('data/df_data/train.csv')\n",
    "    \n",
    "if not os.path.isfile('data/df_data/test.csv'):\n",
    "    test.to_csv('data/df_data/test.csv', index=False)\n",
    "else:\n",
    "    df_test = pd.read_csv('data/df_data/test.csv')"
   ]
  },
  {
   "cell_type": "code",
   "execution_count": 7,
   "metadata": {},
   "outputs": [
    {
     "name": "stdout",
     "output_type": "stream",
     "text": [
      "                      path\n",
      "0  data/test/d0152bd7c.png\n",
      "1  data/test/fba8fc78a.png\n",
      "2  data/test/b573b7a56.png\n",
      "3  data/test/bebcaab66.png\n",
      "4  data/test/90d119d25.png \n",
      "    label                                   path\n",
      "0      0  data/train/Common-wheat/2c4813e68.png\n",
      "1      0  data/train/Common-wheat/df584ca28.png\n",
      "2      0  data/train/Common-wheat/2f45d4b13.png\n",
      "3      0  data/train/Common-wheat/42098546c.png\n",
      "4      0  data/train/Common-wheat/96183ee02.png\n"
     ]
    }
   ],
   "source": [
    "print(df_test.head(), '\\n', df_train.head())"
   ]
  },
  {
   "cell_type": "code",
   "execution_count": 8,
   "metadata": {},
   "outputs": [],
   "source": [
    "number_to_names = {'0': 'Common wheat',\n",
    "                  '1': 'Fat Hen',\n",
    "                  '2': 'Small-flowered Cranesbill',\n",
    "                  '3': 'Maize',\n",
    "                  '4': 'Scentless Mayweed',\n",
    "                   '5': 'Cleavers',\n",
    "                  '6': 'Charlock',\n",
    "                  '7': 'Sugar beet',\n",
    "                  '8': 'Shepherds Purse',\n",
    "                  '9': 'Black-grass',\n",
    "                  '10': 'Common Chickweed',\n",
    "                  '11': 'Loose Silky-bent'}"
   ]
  },
  {
   "cell_type": "code",
   "execution_count": 9,
   "metadata": {},
   "outputs": [],
   "source": [
    "def image_edit(path, resolution):\n",
    "    image = misc.imread(path)\n",
    "    image = misc.imresize(image, (resolution, resolution), mode=None)\n",
    "    return image"
   ]
  },
  {
   "cell_type": "code",
   "execution_count": 10,
   "metadata": {},
   "outputs": [],
   "source": [
    "def image_edit0(path, resolution):\n",
    "    img = cv2.imread(path)\n",
    "    (b, g, r)=cv2.split(img)\n",
    "    img=cv2.merge([r,g,b])\n",
    "    image = misc.imresize(img, (resolution, resolution), mode=None)\n",
    "    return image"
   ]
  },
  {
   "cell_type": "code",
   "execution_count": 11,
   "metadata": {},
   "outputs": [
    {
     "name": "stderr",
     "output_type": "stream",
     "text": [
      "/home/rodrigo/.local/lib/python3.5/site-packages/ipykernel_launcher.py:5: DeprecationWarning: `imresize` is deprecated!\n",
      "`imresize` is deprecated in SciPy 1.0.0, and will be removed in 1.2.0.\n",
      "Use ``skimage.transform.resize`` instead.\n",
      "  \"\"\"\n"
     ]
    },
    {
     "data": {
      "text/plain": [
       "<matplotlib.image.AxesImage at 0x7f1e298717b8>"
      ]
     },
     "execution_count": 11,
     "metadata": {},
     "output_type": "execute_result"
    },
    {
     "data": {
      "image/png": "[encoded data removed]",
      "text/plain": [
       "<matplotlib.figure.Figure at 0x7f1e298ab2b0>"
      ]
     },
     "metadata": {},
     "output_type": "display_data"
    }
   ],
   "source": [
    "image0 = image_edit0('data/test/d0152bd7c.png', 32)\n",
    "imshow(image0)"
   ]
  },
  {
   "cell_type": "code",
   "execution_count": 14,
   "metadata": {},
   "outputs": [
    {
     "name": "stderr",
     "output_type": "stream",
     "text": [
      "C:\\Users\\Rodrigo\\Anaconda3\\lib\\site-packages\\scipy\\misc\\pilutil.py:482: FutureWarning: Conversion of the second argument of issubdtype from `int` to `np.signedinteger` is deprecated. In future, it will be treated as `np.int32 == np.dtype(int).type`.\n",
      "  if issubdtype(ts, int):\n",
      "C:\\Users\\Rodrigo\\Anaconda3\\lib\\site-packages\\scipy\\misc\\pilutil.py:485: FutureWarning: Conversion of the second argument of issubdtype from `float` to `np.floating` is deprecated. In future, it will be treated as `np.float64 == np.dtype(float).type`.\n",
      "  elif issubdtype(type(size), float):\n"
     ]
    },
    {
     "data": {
      "text/plain": [
       "<matplotlib.image.AxesImage at 0x219e7ef0>"
      ]
     },
     "execution_count": 14,
     "metadata": {},
     "output_type": "execute_result"
    },
    {
     "data": {
      "image/png": "[encoded data removed]",
      "text/plain": [
       "<Figure size 432x288 with 1 Axes>"
      ]
     },
     "metadata": {},
     "output_type": "display_data"
    }
   ],
   "source": [
    "image = image_edit('data/test/d0152bd7c.png', 32)\n",
    "imshow(image)"
   ]
  },
  {
   "cell_type": "code",
   "execution_count": 12,
   "metadata": {},
   "outputs": [
    {
     "data": {
      "text/plain": [
       "<matplotlib.image.AxesImage at 0x7f1e29796be0>"
      ]
     },
     "execution_count": 12,
     "metadata": {},
     "output_type": "execute_result"
    },
    {
     "data": {
      "image/png": "[encoded data removed]",
      "text/plain": [
       "<matplotlib.figure.Figure at 0x7f1e2984dd30>"
      ]
     },
     "metadata": {},
     "output_type": "display_data"
    }
   ],
   "source": [
    "imshow(proc_image0(proc_image1(image0)))"
   ]
  },
  {
   "cell_type": "code",
   "execution_count": 23,
   "metadata": {},
   "outputs": [
    {
     "name": "stderr",
     "output_type": "stream",
     "text": [
      "C:\\Users\\Rodrigo\\Anaconda3\\lib\\site-packages\\scipy\\misc\\pilutil.py:482: FutureWarning: Conversion of the second argument of issubdtype from `int` to `np.signedinteger` is deprecated. In future, it will be treated as `np.int32 == np.dtype(int).type`.\n",
      "  if issubdtype(ts, int):\n",
      "C:\\Users\\Rodrigo\\Anaconda3\\lib\\site-packages\\scipy\\misc\\pilutil.py:485: FutureWarning: Conversion of the second argument of issubdtype from `float` to `np.floating` is deprecated. In future, it will be treated as `np.float64 == np.dtype(float).type`.\n",
      "  elif issubdtype(type(size), float):\n"
     ]
    }
   ],
   "source": [
    "# images_train = [proc_image0(proc_image1(image_edit0(path, 64))) for path in df_train['path']]"
   ]
  },
  {
   "cell_type": "code",
   "execution_count": 13,
   "metadata": {},
   "outputs": [
    {
     "name": "stderr",
     "output_type": "stream",
     "text": [
      "/home/rodrigo/.local/lib/python3.5/site-packages/ipykernel_launcher.py:5: DeprecationWarning: `imresize` is deprecated!\n",
      "`imresize` is deprecated in SciPy 1.0.0, and will be removed in 1.2.0.\n",
      "Use ``skimage.transform.resize`` instead.\n",
      "  \"\"\"\n"
     ]
    }
   ],
   "source": [
    "images_train = [image_edit0(path, 32) for path in df_train['path']]"
   ]
  },
  {
   "cell_type": "code",
   "execution_count": 14,
   "metadata": {},
   "outputs": [
    {
     "data": {
      "text/plain": [
       "4750"
      ]
     },
     "execution_count": 14,
     "metadata": {},
     "output_type": "execute_result"
    }
   ],
   "source": [
    "len(images_train)"
   ]
  },
  {
   "cell_type": "code",
   "execution_count": 15,
   "metadata": {},
   "outputs": [],
   "source": [
    "array_train = np.asarray(images_train)"
   ]
  },
  {
   "cell_type": "code",
   "execution_count": 16,
   "metadata": {},
   "outputs": [],
   "source": [
    "# images_test = [proc_image0(proc_image1(image_edit0(path, 64))) for path in df_test['path']]"
   ]
  },
  {
   "cell_type": "code",
   "execution_count": 17,
   "metadata": {},
   "outputs": [
    {
     "name": "stderr",
     "output_type": "stream",
     "text": [
      "/home/rodrigo/.local/lib/python3.5/site-packages/ipykernel_launcher.py:5: DeprecationWarning: `imresize` is deprecated!\n",
      "`imresize` is deprecated in SciPy 1.0.0, and will be removed in 1.2.0.\n",
      "Use ``skimage.transform.resize`` instead.\n",
      "  \"\"\"\n"
     ]
    }
   ],
   "source": [
    "images_test = [image_edit0(path, 32) for path in df_test['path']]"
   ]
  },
  {
   "cell_type": "code",
   "execution_count": 18,
   "metadata": {},
   "outputs": [],
   "source": [
    "array_test = np.asarray(images_test)"
   ]
  },
  {
   "cell_type": "code",
   "execution_count": 19,
   "metadata": {},
   "outputs": [],
   "source": [
    "X_train, X_test, y_train, y_test =train_test_split(array_train,\n",
    "                                                   df_train['label'],\n",
    "                                                   test_size=0.2,\n",
    "                                                   random_state=42,\n",
    "                                                   stratify = df_train['label'])"
   ]
  },
  {
   "cell_type": "code",
   "execution_count": 20,
   "metadata": {},
   "outputs": [],
   "source": [
    "X_train, y_train = shuffle(X_train, y_train)"
   ]
  },
  {
   "cell_type": "code",
   "execution_count": 21,
   "metadata": {
    "scrolled": true
   },
   "outputs": [
    {
     "data": {
      "text/plain": [
       "<matplotlib.image.AxesImage at 0x7f1e296852e8>"
      ]
     },
     "execution_count": 21,
     "metadata": {},
     "output_type": "execute_result"
    },
    {
     "data": {
      "image/png": "[encoded data removed]",
      "text/plain": [
       "<matplotlib.figure.Figure at 0x7f1e297ad8d0>"
      ]
     },
     "metadata": {},
     "output_type": "display_data"
    }
   ],
   "source": [
    "imshow(X_train[10])"
   ]
  },
  {
   "cell_type": "code",
   "execution_count": 22,
   "metadata": {},
   "outputs": [
    {
     "data": {
      "text/plain": [
       "<matplotlib.image.AxesImage at 0x7f1e2966ad68>"
      ]
     },
     "execution_count": 22,
     "metadata": {},
     "output_type": "execute_result"
    },
    {
     "data": {
      "image/png": "[encoded data removed]",
      "text/plain": [
       "<matplotlib.figure.Figure at 0x7f1e296937f0>"
      ]
     },
     "metadata": {},
     "output_type": "display_data"
    }
   ],
   "source": [
    "# im2display = X_train[10].transpose((1,20))\n",
    "imshow(X_train[10], interpolation='nearest')"
   ]
  },
  {
   "cell_type": "code",
   "execution_count": 23,
   "metadata": {},
   "outputs": [],
   "source": [
    "def histogram_equalize(img):\n",
    "    b, g, r = cv2.split(img)\n",
    "    red = cv2.equalizeHist(r)\n",
    "    green = cv2.equalizeHist(g)\n",
    "    blue = cv2.equalizeHist(b)\n",
    "    return cv2.merge((blue, green, red))"
   ]
  },
  {
   "cell_type": "code",
   "execution_count": 24,
   "metadata": {},
   "outputs": [],
   "source": [
    "def normalize_scale(image_data):\n",
    "    a = -0.5\n",
    "    b = 0.5\n",
    "    scale_min = 0\n",
    "    scale_max = 255\n",
    "    return a + ( ( (image_data - scale_min)*(b - a) )/( scale_max - scale_min ) )"
   ]
  },
  {
   "cell_type": "code",
   "execution_count": 25,
   "metadata": {},
   "outputs": [],
   "source": [
    "def normalize_scale2(image_data):\n",
    "    a = 0\n",
    "    b = 0\n",
    "    scale_min = 0\n",
    "    scale_max = 255\n",
    "    return a + ( ( (image_data - scale_min)*(b - a) )/( scale_max - scale_min ) )"
   ]
  },
  {
   "cell_type": "code",
   "execution_count": 26,
   "metadata": {},
   "outputs": [],
   "source": [
    "def histogram_equalize_green(img):\n",
    "    b, g, r = cv2.split(img)\n",
    "    red = cv2.equalizeHist(b)\n",
    "    blue = cv2.equalizeHist(b)\n",
    "    green = cv2.equalizeHist(b)\n",
    "    return cv2.merge((r, b, r))"
   ]
  },
  {
   "cell_type": "code",
   "execution_count": 27,
   "metadata": {},
   "outputs": [],
   "source": [
    "X_normalized = normalize_scale(X_train)\n",
    "X_normalized_test = normalize_scale(X_test)"
   ]
  },
  {
   "cell_type": "code",
   "execution_count": 28,
   "metadata": {},
   "outputs": [
    {
     "data": {
      "text/plain": [
       "<matplotlib.image.AxesImage at 0x7f1e295de7b8>"
      ]
     },
     "execution_count": 28,
     "metadata": {},
     "output_type": "execute_result"
    },
    {
     "data": {
      "image/png": "[encoded data removed]",
      "text/plain": [
       "<matplotlib.figure.Figure at 0x7f1e297d6828>"
      ]
     },
     "metadata": {},
     "output_type": "display_data"
    }
   ],
   "source": [
    "imshow(X_normalized[2])"
   ]
  },
  {
   "cell_type": "code",
   "execution_count": 29,
   "metadata": {},
   "outputs": [
    {
     "data": {
      "text/plain": [
       "<matplotlib.image.AxesImage at 0x7f1e21bb1ac8>"
      ]
     },
     "execution_count": 29,
     "metadata": {},
     "output_type": "execute_result"
    },
    {
     "data": {
      "image/png": "[encoded data removed]",
      "text/plain": [
       "<matplotlib.figure.Figure at 0x7f1e2957e320>"
      ]
     },
     "metadata": {},
     "output_type": "display_data"
    }
   ],
   "source": [
    "imshow(X_normalized_test[100])"
   ]
  },
  {
   "cell_type": "code",
   "execution_count": null,
   "metadata": {},
   "outputs": [],
   "source": []
  },
  {
   "cell_type": "code",
   "execution_count": null,
   "metadata": {},
   "outputs": [],
   "source": []
  },
  {
   "cell_type": "code",
   "execution_count": null,
   "metadata": {},
   "outputs": [],
   "source": []
  },
  {
   "cell_type": "code",
   "execution_count": 68,
   "metadata": {},
   "outputs": [],
   "source": [
    "img_data = [histogram_equalize(data) for data in images_train]\n",
    "img_data = np.asarray(img_data)"
   ]
  },
  {
   "cell_type": "code",
   "execution_count": 69,
   "metadata": {},
   "outputs": [
    {
     "data": {
      "text/plain": [
       "<matplotlib.image.AxesImage at 0x21c0eac8>"
      ]
     },
     "execution_count": 69,
     "metadata": {},
     "output_type": "execute_result"
    },
    {
     "data": {
      "image/png": "[encoded data removed]",
      "text/plain": [
       "<Figure size 432x288 with 1 Axes>"
      ]
     },
     "metadata": {},
     "output_type": "display_data"
    }
   ],
   "source": [
    "imshow(img_data[10])"
   ]
  },
  {
   "cell_type": "code",
   "execution_count": 70,
   "metadata": {
    "collapsed": true
   },
   "outputs": [],
   "source": [
    "X_train, X_test, y_train, y_test =train_test_split(img_data,\n",
    "                                                   df_train['label'],\n",
    "                                                   test_size=0.2,\n",
    "                                                   random_state=42,\n",
    "                                                   stratify = df_train['label'])"
   ]
  },
  {
   "cell_type": "code",
   "execution_count": 72,
   "metadata": {
    "collapsed": true
   },
   "outputs": [],
   "source": [
    "X_equ = [histogram_equalize(data) for data in X_train]\n",
    "X_equ = np.asarray(X_equ)\n",
    "\n",
    "X_equ_test = [histogram_equalize(data) for data in X_test]\n",
    "X_equ_test = np.asarray(X_equ_test)"
   ]
  },
  {
   "cell_type": "code",
   "execution_count": 73,
   "metadata": {},
   "outputs": [
    {
     "data": {
      "text/plain": [
       "<matplotlib.image.AxesImage at 0x27a06dd8>"
      ]
     },
     "execution_count": 73,
     "metadata": {},
     "output_type": "execute_result"
    },
    {
     "data": {
      "image/png": "[encoded data removed]",
      "text/plain": [
       "<Figure size 432x288 with 1 Axes>"
      ]
     },
     "metadata": {},
     "output_type": "display_data"
    }
   ],
   "source": [
    "equ = histogram_equalize(X_equ[10])\n",
    "imshow(equ)"
   ]
  },
  {
   "cell_type": "code",
   "execution_count": 30,
   "metadata": {},
   "outputs": [],
   "source": [
    "test_normalized = normalize_scale(array_test)"
   ]
  },
  {
   "cell_type": "code",
   "execution_count": 31,
   "metadata": {},
   "outputs": [],
   "source": [
    "label_binarizer = LabelBinarizer()\n",
    "y_one_hot = label_binarizer.fit_transform(y_train)\n",
    "y_one_hot_test = label_binarizer.fit_transform(y_test)"
   ]
  },
  {
   "cell_type": "code",
   "execution_count": 32,
   "metadata": {},
   "outputs": [
    {
     "data": {
      "text/plain": [
       "3322     9\n",
       "4        0\n",
       "1823     4\n",
       "4266    11\n",
       "2576     6\n",
       "614      1\n",
       "4252    11\n",
       "2730     7\n",
       "442      1\n",
       "4281    11\n",
       "Name: label, dtype: int64"
      ]
     },
     "execution_count": 32,
     "metadata": {},
     "output_type": "execute_result"
    }
   ],
   "source": [
    "y_train[:10]"
   ]
  },
  {
   "cell_type": "code",
   "execution_count": 33,
   "metadata": {},
   "outputs": [
    {
     "data": {
      "text/plain": [
       "array([[0, 0, 0, 0, 0, 0, 0, 0, 0, 1, 0, 0],\n",
       "       [1, 0, 0, 0, 0, 0, 0, 0, 0, 0, 0, 0],\n",
       "       [0, 0, 0, 0, 1, 0, 0, 0, 0, 0, 0, 0],\n",
       "       [0, 0, 0, 0, 0, 0, 0, 0, 0, 0, 0, 1],\n",
       "       [0, 0, 0, 0, 0, 0, 1, 0, 0, 0, 0, 0],\n",
       "       [0, 1, 0, 0, 0, 0, 0, 0, 0, 0, 0, 0],\n",
       "       [0, 0, 0, 0, 0, 0, 0, 0, 0, 0, 0, 1],\n",
       "       [0, 0, 0, 0, 0, 0, 0, 1, 0, 0, 0, 0],\n",
       "       [0, 1, 0, 0, 0, 0, 0, 0, 0, 0, 0, 0],\n",
       "       [0, 0, 0, 0, 0, 0, 0, 0, 0, 0, 0, 1]])"
      ]
     },
     "execution_count": 33,
     "metadata": {},
     "output_type": "execute_result"
    }
   ],
   "source": [
    "y_one_hot[:10]"
   ]
  },
  {
   "cell_type": "code",
   "execution_count": 34,
   "metadata": {},
   "outputs": [],
   "source": [
    "y_back = label_binarizer.inverse_transform(y_one_hot[:10])"
   ]
  },
  {
   "cell_type": "code",
   "execution_count": 35,
   "metadata": {},
   "outputs": [
    {
     "data": {
      "text/plain": [
       "array([ 9,  0,  4, 11,  6,  1, 11,  7,  1, 11])"
      ]
     },
     "execution_count": 35,
     "metadata": {},
     "output_type": "execute_result"
    }
   ],
   "source": [
    "y_back"
   ]
  },
  {
   "cell_type": "markdown",
   "metadata": {},
   "source": [
    "Primer intento"
   ]
  },
  {
   "cell_type": "code",
   "execution_count": 37,
   "metadata": {},
   "outputs": [],
   "source": [
    "# Creación del modelo feedforward\n",
    "model = Sequential()\n",
    "\n",
    "# Esta capa aplana la entrada de 32x32x3 en un solo tensor de 3072\n",
    "model.add(Flatten(input_shape=(32, 32, 3)))\n",
    "\n",
    "# Esta añade una capa densamente conectada no es necesario indicarle el tamaño de entrada dado\n",
    "# que no es la primera capa del modelo\n",
    "model.add(Dense(20, activation=\"relu\"))\n",
    "\n",
    "# Capa densamente conectada en la que se indica el número de neuronas a la salida, que ha de \n",
    "# coincidir con el número de clases con las que se trabaja\n",
    "model.add(Dense(12, activation=\"softmax\"))"
   ]
  },
  {
   "cell_type": "code",
   "execution_count": 38,
   "metadata": {
    "scrolled": true
   },
   "outputs": [
    {
     "name": "stdout",
     "output_type": "stream",
     "text": [
      "Train on 3040 samples, validate on 760 samples\n",
      "Epoch 1/50\n",
      " - 1s - loss: 2.4460 - acc: 0.1174 - val_loss: 2.4237 - val_acc: 0.1368\n",
      "Epoch 2/50\n",
      " - 0s - loss: 2.4174 - acc: 0.1503 - val_loss: 2.4188 - val_acc: 0.1355\n",
      "Epoch 3/50\n",
      " - 0s - loss: 2.4005 - acc: 0.1592 - val_loss: 2.3976 - val_acc: 0.1513\n",
      "Epoch 4/50\n",
      " - 0s - loss: 2.3844 - acc: 0.1875 - val_loss: 2.3847 - val_acc: 0.1579\n",
      "Epoch 5/50\n",
      " - 0s - loss: 2.3693 - acc: 0.1888 - val_loss: 2.3686 - val_acc: 0.1566\n",
      "Epoch 6/50\n",
      " - 0s - loss: 2.3537 - acc: 0.2109 - val_loss: 2.3671 - val_acc: 0.2263\n",
      "Epoch 7/50\n",
      " - 0s - loss: 2.3340 - acc: 0.2230 - val_loss: 2.3390 - val_acc: 0.2211\n",
      "Epoch 8/50\n",
      " - 0s - loss: 2.3193 - acc: 0.2382 - val_loss: 2.3322 - val_acc: 0.2355\n",
      "Epoch 9/50\n",
      " - 0s - loss: 2.3025 - acc: 0.2365 - val_loss: 2.3095 - val_acc: 0.2592\n",
      "Epoch 10/50\n",
      " - 0s - loss: 2.2798 - acc: 0.2632 - val_loss: 2.2974 - val_acc: 0.2513\n",
      "Epoch 11/50\n",
      " - 0s - loss: 2.2531 - acc: 0.2658 - val_loss: 2.2790 - val_acc: 0.2645\n",
      "Epoch 12/50\n",
      " - 0s - loss: 2.2283 - acc: 0.2816 - val_loss: 2.2425 - val_acc: 0.2250\n",
      "Epoch 13/50\n",
      " - 0s - loss: 2.1982 - acc: 0.2977 - val_loss: 2.2143 - val_acc: 0.2579\n",
      "Epoch 14/50\n",
      " - 0s - loss: 2.1684 - acc: 0.3030 - val_loss: 2.1935 - val_acc: 0.2987\n",
      "Epoch 15/50\n",
      " - 0s - loss: 2.1423 - acc: 0.3171 - val_loss: 2.1563 - val_acc: 0.2974\n",
      "Epoch 16/50\n",
      " - 0s - loss: 2.1079 - acc: 0.3345 - val_loss: 2.1301 - val_acc: 0.3105\n",
      "Epoch 17/50\n",
      " - 0s - loss: 2.0771 - acc: 0.3391 - val_loss: 2.1388 - val_acc: 0.2671\n",
      "Epoch 18/50\n",
      " - 0s - loss: 2.0486 - acc: 0.3447 - val_loss: 2.0679 - val_acc: 0.3184\n",
      "Epoch 19/50\n",
      " - 0s - loss: 2.0181 - acc: 0.3582 - val_loss: 2.0380 - val_acc: 0.3329\n",
      "Epoch 20/50\n",
      " - 0s - loss: 1.9863 - acc: 0.3697 - val_loss: 2.0313 - val_acc: 0.3053\n",
      "Epoch 21/50\n",
      " - 0s - loss: 1.9562 - acc: 0.3757 - val_loss: 2.0133 - val_acc: 0.3105\n",
      "Epoch 22/50\n",
      " - 0s - loss: 1.9289 - acc: 0.3786 - val_loss: 1.9621 - val_acc: 0.3539\n",
      "Epoch 23/50\n",
      " - 0s - loss: 1.8973 - acc: 0.3898 - val_loss: 1.9355 - val_acc: 0.3645\n",
      "Epoch 24/50\n",
      " - 0s - loss: 1.8705 - acc: 0.3964 - val_loss: 1.9065 - val_acc: 0.3789\n",
      "Epoch 25/50\n",
      " - 0s - loss: 1.8437 - acc: 0.4007 - val_loss: 1.8906 - val_acc: 0.3645\n",
      "Epoch 26/50\n",
      " - 0s - loss: 1.8152 - acc: 0.4115 - val_loss: 1.8997 - val_acc: 0.3539\n",
      "Epoch 27/50\n",
      " - 0s - loss: 1.7894 - acc: 0.4125 - val_loss: 1.8423 - val_acc: 0.3895\n",
      "Epoch 28/50\n",
      " - 0s - loss: 1.7650 - acc: 0.4289 - val_loss: 1.8197 - val_acc: 0.3789\n",
      "Epoch 29/50\n",
      " - 0s - loss: 1.7424 - acc: 0.4299 - val_loss: 1.8001 - val_acc: 0.3763\n",
      "Epoch 30/50\n",
      " - 0s - loss: 1.7207 - acc: 0.4378 - val_loss: 1.7745 - val_acc: 0.4039\n",
      "Epoch 31/50\n",
      " - 0s - loss: 1.7009 - acc: 0.4355 - val_loss: 1.7512 - val_acc: 0.4066\n",
      "Epoch 32/50\n",
      " - 0s - loss: 1.6720 - acc: 0.4523 - val_loss: 1.7433 - val_acc: 0.4197\n",
      "Epoch 33/50\n",
      " - 0s - loss: 1.6512 - acc: 0.4533 - val_loss: 1.7176 - val_acc: 0.4250\n",
      "Epoch 34/50\n",
      " - 0s - loss: 1.6315 - acc: 0.4632 - val_loss: 1.7514 - val_acc: 0.3974\n",
      "Epoch 35/50\n",
      " - 0s - loss: 1.6076 - acc: 0.4658 - val_loss: 1.6861 - val_acc: 0.4171\n",
      "Epoch 36/50\n",
      " - 0s - loss: 1.5952 - acc: 0.4678 - val_loss: 1.6919 - val_acc: 0.4053\n",
      "Epoch 37/50\n",
      " - 0s - loss: 1.5773 - acc: 0.4720 - val_loss: 1.6799 - val_acc: 0.4118\n",
      "Epoch 38/50\n",
      " - 0s - loss: 1.5568 - acc: 0.4730 - val_loss: 1.6543 - val_acc: 0.4250\n",
      "Epoch 39/50\n",
      " - 0s - loss: 1.5468 - acc: 0.4826 - val_loss: 1.6392 - val_acc: 0.4211\n",
      "Epoch 40/50\n",
      " - 0s - loss: 1.5272 - acc: 0.4842 - val_loss: 1.6246 - val_acc: 0.4303\n",
      "Epoch 41/50\n",
      " - 0s - loss: 1.5114 - acc: 0.4822 - val_loss: 1.6138 - val_acc: 0.4368\n",
      "Epoch 42/50\n",
      " - 0s - loss: 1.4960 - acc: 0.5000 - val_loss: 1.6497 - val_acc: 0.4158\n",
      "Epoch 43/50\n",
      " - 0s - loss: 1.4792 - acc: 0.5010 - val_loss: 1.6355 - val_acc: 0.4263\n",
      "Epoch 44/50\n",
      " - 0s - loss: 1.4661 - acc: 0.5066 - val_loss: 1.5834 - val_acc: 0.4513\n",
      "Epoch 45/50\n",
      " - 0s - loss: 1.4516 - acc: 0.5122 - val_loss: 1.5669 - val_acc: 0.4474\n",
      "Epoch 46/50\n",
      " - 0s - loss: 1.4372 - acc: 0.5201 - val_loss: 1.5762 - val_acc: 0.4539\n",
      "Epoch 47/50\n",
      " - 0s - loss: 1.4240 - acc: 0.5247 - val_loss: 1.5943 - val_acc: 0.4500\n",
      "Epoch 48/50\n",
      " - 0s - loss: 1.4121 - acc: 0.5220 - val_loss: 1.5701 - val_acc: 0.4434\n",
      "Epoch 49/50\n",
      " - 0s - loss: 1.3935 - acc: 0.5355 - val_loss: 1.5450 - val_acc: 0.4500\n",
      "Epoch 50/50\n",
      " - 0s - loss: 1.3877 - acc: 0.5293 - val_loss: 1.5197 - val_acc: 0.4776\n"
     ]
    },
    {
     "data": {
      "text/plain": [
       "<keras.callbacks.History at 0x7f1e21b66c50>"
      ]
     },
     "execution_count": 38,
     "metadata": {},
     "output_type": "execute_result"
    }
   ],
   "source": [
    "model.compile('SGD', 'categorical_crossentropy', ['accuracy'])\n",
    "earlyStopping=keras.callbacks.EarlyStopping(monitor='val_loss', patience=4, verbose=1, mode='auto')\n",
    "model.fit(X_normalized, y_one_hot, epochs=50, validation_split=0.20, verbose=2, callbacks=[earlyStopping])\n",
    "# history = model.fit(X_train, y_one_hot, nb_epoch=10, validation_split=0.20, verbose=2)"
   ]
  },
  {
   "cell_type": "code",
   "execution_count": 39,
   "metadata": {},
   "outputs": [
    {
     "name": "stdout",
     "output_type": "stream",
     "text": [
      "950/950 [==============================] - 0s 55us/step\n"
     ]
    },
    {
     "data": {
      "text/plain": [
       "[1.5819354857896504, 0.4600000003764504]"
      ]
     },
     "execution_count": 39,
     "metadata": {},
     "output_type": "execute_result"
    }
   ],
   "source": [
    "test_score = model.evaluate(X_normalized_test, y_one_hot_test)\n",
    "test_score"
   ]
  },
  {
   "cell_type": "code",
   "execution_count": 144,
   "metadata": {
    "collapsed": true
   },
   "outputs": [],
   "source": [
    "model_name = 'modelo1'\n",
    "model.save_weights('weights/{}.h5'.format(model_name))\n",
    "model.save('models/{}.h5'.format(model_name))"
   ]
  },
  {
   "cell_type": "code",
   "execution_count": 145,
   "metadata": {},
   "outputs": [
    {
     "name": "stdout",
     "output_type": "stream",
     "text": [
      "950/950 [==============================] - 0s 379us/step\n"
     ]
    },
    {
     "data": {
      "text/plain": [
       "[1.343362095983405, 0.5105263151620564]"
      ]
     },
     "execution_count": 145,
     "metadata": {},
     "output_type": "execute_result"
    }
   ],
   "source": [
    "model_load = load_model('models/{}.h5'.format(model_name))\n",
    "model_load.load_weights('weights/{}.h5'.format(model_name))\n",
    "test_score = model_load.evaluate(X_normalized_test, y_one_hot_test)\n",
    "test_score"
   ]
  },
  {
   "cell_type": "code",
   "execution_count": 146,
   "metadata": {
    "collapsed": true
   },
   "outputs": [],
   "source": [
    "preds = model_load.predict(X_normalized_test)"
   ]
  },
  {
   "cell_type": "code",
   "execution_count": 147,
   "metadata": {
    "collapsed": true
   },
   "outputs": [],
   "source": [
    "predictions = label_binarizer.inverse_transform(preds)"
   ]
  },
  {
   "cell_type": "code",
   "execution_count": 148,
   "metadata": {},
   "outputs": [
    {
     "data": {
      "text/plain": [
       "array([10, 11,  4,  4, 10,  4, 10, 11, 11, 10])"
      ]
     },
     "execution_count": 148,
     "metadata": {},
     "output_type": "execute_result"
    }
   ],
   "source": [
    "predictions[:10]"
   ]
  },
  {
   "cell_type": "code",
   "execution_count": 149,
   "metadata": {},
   "outputs": [
    {
     "data": {
      "text/plain": [
       "array([[  0,   1,   0,   0,   1,  11,   1,   1,   0,   1,   0,  28],\n",
       "       [  0,  26,   5,   0,   7,   0,   4,  13,   2,   0,   7,  31],\n",
       "       [  0,   4,  70,   1,   1,   0,  12,   3,   0,   0,   8,   0],\n",
       "       [  0,   0,   1,  14,   6,   0,   5,   0,   0,   0,  18,   0],\n",
       "       [  0,   3,   0,   1,  31,   1,  13,  24,   1,   1,  27,   1],\n",
       "       [  0,   5,   4,   0,   0,  28,  16,   0,   0,   1,   1,   3],\n",
       "       [  0,   0,   5,   0,   6,   5,  59,   1,   1,   0,   1,   0],\n",
       "       [  0,   7,  12,   0,   8,   1,   0,  36,   1,   0,  10,   2],\n",
       "       [  0,   0,   9,   0,  10,   4,   8,   1,   3,   0,  11,   0],\n",
       "       [  0,   3,   0,   0,   0,   1,   0,   0,   0,   1,   2,  46],\n",
       "       [  0,   1,   5,   1,  10,   3,   3,   2,   4,   0,  92,   1],\n",
       "       [  0,   1,   1,   0,   1,   0,   0,   1,   0,   2,   0, 125]])"
      ]
     },
     "execution_count": 149,
     "metadata": {},
     "output_type": "execute_result"
    }
   ],
   "source": [
    "cm = confusion_matrix(y_test, predictions)\n",
    "cm"
   ]
  },
  {
   "cell_type": "code",
   "execution_count": 113,
   "metadata": {},
   "outputs": [
    {
     "name": "stderr",
     "output_type": "stream",
     "text": [
      "/usr/local/lib/python3.5/dist-packages/sklearn/metrics/classification.py:1113: UndefinedMetricWarning: F-score is ill-defined and being set to 0.0 in labels with no predicted samples.\n",
      "  'precision', 'predicted', average, warn_for)\n"
     ]
    },
    {
     "data": {
      "text/plain": [
       "0.0539308309470563"
      ]
     },
     "execution_count": 113,
     "metadata": {},
     "output_type": "execute_result"
    }
   ],
   "source": [
    "f1_score(y_test, predictions, average='macro')"
   ]
  },
  {
   "cell_type": "code",
   "execution_count": 103,
   "metadata": {
    "collapsed": true
   },
   "outputs": [],
   "source": [
    "names_preds = [number_to_names[str(i)] for i in predictions]"
   ]
  },
  {
   "cell_type": "code",
   "execution_count": 104,
   "metadata": {},
   "outputs": [
    {
     "data": {
      "text/plain": [
       "['Charlock',\n",
       " 'Scentless-Mayweed',\n",
       " 'Charlock',\n",
       " 'Charlock',\n",
       " 'Charlock',\n",
       " 'Charlock',\n",
       " 'Charlock',\n",
       " 'Loose-Silky-bent',\n",
       " 'Loose-Silky-bent',\n",
       " 'Charlock']"
      ]
     },
     "execution_count": 104,
     "metadata": {},
     "output_type": "execute_result"
    }
   ],
   "source": [
    "names_preds[:10]"
   ]
  },
  {
   "cell_type": "code",
   "execution_count": 83,
   "metadata": {},
   "outputs": [
    {
     "name": "stderr",
     "output_type": "stream",
     "text": [
      "/usr/local/lib/python3.5/dist-packages/ipykernel_launcher.py:5: UserWarning: Update your `Conv2D` call to the Keras 2 API: `Conv2D(32, (3, 3), input_shape=(32, 32, 3..., activation=\"relu\")`\n",
      "  \"\"\"\n"
     ]
    }
   ],
   "source": [
    "# Creación del modelo convolucional\n",
    "model = Sequential()\n",
    "\n",
    "# Capa de convilución. Recibe las dimensiones de la capa de entrada. Para imágenes se usa la capa de Convolution2D\n",
    "model.add(Convolution2D(32, 3, 3, input_shape=(32, 32, 3), activation=\"relu\"))\n",
    "\n",
    "# Esta capa aplana la entrada de 32x32x3 en un solo tensor de 3072\n",
    "model.add(Flatten())\n",
    "\n",
    "# Esta añade una capa densamente conectada no es necesario indicarle el tamaño de entrada dado\n",
    "# que no es la primera capa del modelo\n",
    "model.add(Dense(128, activation=\"relu\"))\n",
    "\n",
    "# Capa densamente conectada en la que se indica el número de neuronas a la salida, que ha de \n",
    "# coincidir con el número de clases con las que se trabaja\n",
    "model.add(Dense(12,activation=\"softmax\"))"
   ]
  },
  {
   "cell_type": "code",
   "execution_count": 84,
   "metadata": {
    "scrolled": true
   },
   "outputs": [
    {
     "name": "stdout",
     "output_type": "stream",
     "text": [
      "Train on 3040 samples, validate on 760 samples\n",
      "Epoch 1/20\n",
      " - 4s - loss: 2.2997 - acc: 0.2316 - val_loss: 1.9593 - val_acc: 0.3750\n",
      "Epoch 2/20\n",
      " - 4s - loss: 1.6435 - acc: 0.4493 - val_loss: 1.6022 - val_acc: 0.4237\n",
      "Epoch 3/20\n",
      " - 4s - loss: 1.2650 - acc: 0.5724 - val_loss: 1.4367 - val_acc: 0.4816\n",
      "Epoch 4/20\n",
      " - 4s - loss: 1.0002 - acc: 0.6678 - val_loss: 1.3582 - val_acc: 0.5263\n",
      "Epoch 5/20\n",
      " - 4s - loss: 0.8247 - acc: 0.7299 - val_loss: 1.3121 - val_acc: 0.5697\n",
      "Epoch 6/20\n",
      " - 4s - loss: 0.6377 - acc: 0.8072 - val_loss: 1.3983 - val_acc: 0.5697\n",
      "Epoch 7/20\n",
      " - 4s - loss: 0.5102 - acc: 0.8490 - val_loss: 1.4699 - val_acc: 0.5474\n",
      "Epoch 8/20\n",
      " - 4s - loss: 0.4067 - acc: 0.8868 - val_loss: 1.4420 - val_acc: 0.5658\n",
      "Epoch 9/20\n",
      " - 4s - loss: 0.3055 - acc: 0.9237 - val_loss: 1.5523 - val_acc: 0.5711\n",
      "Epoch 10/20\n",
      " - 4s - loss: 0.2241 - acc: 0.9569 - val_loss: 1.6031 - val_acc: 0.5671\n",
      "Epoch 11/20\n",
      " - 4s - loss: 0.1715 - acc: 0.9651 - val_loss: 1.7700 - val_acc: 0.5671\n",
      "Epoch 12/20\n",
      " - 4s - loss: 0.1179 - acc: 0.9836 - val_loss: 1.8395 - val_acc: 0.5539\n",
      "Epoch 13/20\n",
      " - 4s - loss: 0.0827 - acc: 0.9924 - val_loss: 1.9839 - val_acc: 0.5605\n",
      "Epoch 14/20\n",
      " - 4s - loss: 0.0543 - acc: 0.9980 - val_loss: 1.8546 - val_acc: 0.5645\n",
      "Epoch 15/20\n",
      " - 4s - loss: 0.0388 - acc: 1.0000 - val_loss: 1.9249 - val_acc: 0.5750\n",
      "Epoch 16/20\n",
      " - 4s - loss: 0.0278 - acc: 1.0000 - val_loss: 2.0312 - val_acc: 0.5618\n",
      "Epoch 17/20\n",
      " - 4s - loss: 0.0194 - acc: 1.0000 - val_loss: 2.0164 - val_acc: 0.5763\n",
      "Epoch 18/20\n",
      " - 4s - loss: 0.0156 - acc: 1.0000 - val_loss: 2.0679 - val_acc: 0.5671\n",
      "Epoch 19/20\n",
      " - 4s - loss: 0.0129 - acc: 1.0000 - val_loss: 2.1351 - val_acc: 0.5566\n",
      "Epoch 20/20\n",
      " - 4s - loss: 0.0104 - acc: 1.0000 - val_loss: 2.1565 - val_acc: 0.5618\n"
     ]
    }
   ],
   "source": [
    "model.compile('adam', 'categorical_crossentropy', ['accuracy'])\n",
    "history = model.fit(X_normalized, y_one_hot, epochs=20, validation_split=0.20, verbose=2, shuffle=True)"
   ]
  },
  {
   "cell_type": "code",
   "execution_count": 85,
   "metadata": {},
   "outputs": [
    {
     "name": "stdout",
     "output_type": "stream",
     "text": [
      "950/950 [==============================] - 0s 313us/step\n"
     ]
    },
    {
     "data": {
      "text/plain": [
       "[2.314135516819201, 0.5421052625304774]"
      ]
     },
     "execution_count": 85,
     "metadata": {},
     "output_type": "execute_result"
    }
   ],
   "source": [
    "test_score = model.evaluate(X_normalized_test, y_one_hot_test)\n",
    "test_score"
   ]
  },
  {
   "cell_type": "markdown",
   "metadata": {
    "collapsed": true
   },
   "source": [
    "Modelo bueno"
   ]
  },
  {
   "cell_type": "code",
   "execution_count": 144,
   "metadata": {
    "scrolled": true
   },
   "outputs": [
    {
     "name": "stderr",
     "output_type": "stream",
     "text": [
      "/usr/local/lib/python3.5/dist-packages/ipykernel_launcher.py:3: UserWarning: Update your `Conv2D` call to the Keras 2 API: `Conv2D(16, (4, 4), activation=\"relu\", input_shape=(64, 64, 3...)`\n",
      "  This is separate from the ipykernel package so we can avoid doing imports until\n",
      "/usr/local/lib/python3.5/dist-packages/ipykernel_launcher.py:7: UserWarning: Update your `Conv2D` call to the Keras 2 API: `Conv2D(32, (4, 4), activation=\"relu\")`\n",
      "  import sys\n"
     ]
    },
    {
     "name": "stdout",
     "output_type": "stream",
     "text": [
      "Epoch 1/20\n",
      "250/250 [==============================] - 10s 40ms/step - loss: 2.0319 - acc: 0.2817 - val_loss: 1.6086 - val_acc: 0.4211\n",
      "Epoch 2/20\n",
      "250/250 [==============================] - 10s 38ms/step - loss: 1.6311 - acc: 0.4088 - val_loss: 1.4607 - val_acc: 0.4747\n",
      "Epoch 3/20\n",
      "250/250 [==============================] - 10s 38ms/step - loss: 1.4892 - acc: 0.4710 - val_loss: 1.3108 - val_acc: 0.5316\n",
      "Epoch 4/20\n",
      "250/250 [==============================] - 10s 38ms/step - loss: 1.4035 - acc: 0.5040 - val_loss: 1.2073 - val_acc: 0.5863\n",
      "Epoch 5/20\n",
      "250/250 [==============================] - 10s 38ms/step - loss: 1.3332 - acc: 0.5245 - val_loss: 1.2116 - val_acc: 0.5463\n",
      "Epoch 6/20\n",
      "250/250 [==============================] - 10s 38ms/step - loss: 1.3061 - acc: 0.5292 - val_loss: 1.1476 - val_acc: 0.5979\n",
      "Epoch 7/20\n",
      "250/250 [==============================] - 10s 39ms/step - loss: 1.2176 - acc: 0.5675 - val_loss: 1.1705 - val_acc: 0.6000\n",
      "Epoch 8/20\n",
      "250/250 [==============================] - 10s 39ms/step - loss: 1.2053 - acc: 0.5757 - val_loss: 1.0768 - val_acc: 0.6337\n",
      "Epoch 9/20\n",
      "250/250 [==============================] - 10s 39ms/step - loss: 1.1548 - acc: 0.5937 - val_loss: 1.0604 - val_acc: 0.6189\n",
      "Epoch 10/20\n",
      "250/250 [==============================] - 10s 39ms/step - loss: 1.1246 - acc: 0.6115 - val_loss: 1.1085 - val_acc: 0.6147\n",
      "Epoch 11/20\n",
      "250/250 [==============================] - 10s 38ms/step - loss: 1.0939 - acc: 0.6112 - val_loss: 1.4380 - val_acc: 0.5253\n",
      "Epoch 12/20\n",
      "250/250 [==============================] - 10s 39ms/step - loss: 1.1152 - acc: 0.6167 - val_loss: 0.9948 - val_acc: 0.6705\n",
      "Epoch 13/20\n",
      "250/250 [==============================] - 10s 39ms/step - loss: 1.0385 - acc: 0.6353 - val_loss: 0.9552 - val_acc: 0.6947\n",
      "Epoch 14/20\n",
      "250/250 [==============================] - 10s 39ms/step - loss: 0.9592 - acc: 0.6625 - val_loss: 0.9610 - val_acc: 0.6937\n",
      "Epoch 15/20\n",
      "250/250 [==============================] - 10s 39ms/step - loss: 0.9952 - acc: 0.6535 - val_loss: 0.9152 - val_acc: 0.6832\n",
      "Epoch 16/20\n",
      "250/250 [==============================] - 10s 39ms/step - loss: 0.9674 - acc: 0.6575 - val_loss: 0.8685 - val_acc: 0.6937\n",
      "Epoch 17/20\n",
      "250/250 [==============================] - 10s 38ms/step - loss: 0.9285 - acc: 0.6808 - val_loss: 0.8398 - val_acc: 0.7126\n",
      "Epoch 18/20\n",
      "250/250 [==============================] - 10s 38ms/step - loss: 0.9033 - acc: 0.6835 - val_loss: 0.8604 - val_acc: 0.7284\n",
      "Epoch 19/20\n",
      "250/250 [==============================] - 10s 39ms/step - loss: 0.9057 - acc: 0.6870 - val_loss: 0.8189 - val_acc: 0.7179\n",
      "Epoch 20/20\n",
      "250/250 [==============================] - 10s 39ms/step - loss: 0.8833 - acc: 0.6927 - val_loss: 0.9419 - val_acc: 0.6737\n",
      "Epoch 1/10\n",
      "20/20 [==============================] - 110s 6s/step - loss: 0.6972 - acc: 0.7579\n",
      "Epoch 2/10\n",
      "20/20 [==============================] - 108s 5s/step - loss: 0.5817 - acc: 0.8108\n",
      "Epoch 3/10\n",
      "20/20 [==============================] - 108s 5s/step - loss: 0.5130 - acc: 0.8348\n",
      "Epoch 4/10\n",
      "20/20 [==============================] - 109s 5s/step - loss: 0.4564 - acc: 0.8574\n",
      "Epoch 5/10\n",
      "20/20 [==============================] - 110s 5s/step - loss: 0.4064 - acc: 0.8754\n",
      "Epoch 6/10\n",
      "20/20 [==============================] - 109s 5s/step - loss: 0.3185 - acc: 0.9103\n",
      "Epoch 7/10\n",
      "20/20 [==============================] - 110s 5s/step - loss: 0.2163 - acc: 0.9496\n",
      "Epoch 8/10\n",
      "20/20 [==============================] - 114s 6s/step - loss: 0.1349 - acc: 0.9730\n",
      "Epoch 9/10\n",
      "20/20 [==============================] - 111s 6s/step - loss: 0.0789 - acc: 0.9868\n",
      "Epoch 10/10\n",
      "20/20 [==============================] - 110s 6s/step - loss: 0.0442 - acc: 0.9940\n",
      "950/950 [==============================] - 1s 670us/step\n"
     ]
    },
    {
     "data": {
      "text/plain": [
       "[1.0280809711155139, 0.771578947619388]"
      ]
     },
     "execution_count": 144,
     "metadata": {},
     "output_type": "execute_result"
    }
   ],
   "source": [
    "model = Sequential()\n",
    "\n",
    "model.add(Convolution2D(16, 4, 4, input_shape=(64, 64, 3), activation=\"relu\"))\n",
    "model.add(MaxPooling2D((2, 2)))\n",
    "# model.add(Dropout(0.25))\n",
    "\n",
    "model.add(Convolution2D(32, 4, 4, activation=\"relu\"))\n",
    "model.add(MaxPooling2D((2, 2)))\n",
    "# model.add(Dropout(0.5))\n",
    "\n",
    "# model.add(Convolution2D(128, 4, 4, activation=\"relu\"))\n",
    "# model.add(MaxPooling2D((2, 2)))\n",
    "# model.add(Dropout(0.5))\n",
    "\n",
    "model.add(Flatten())\n",
    "\n",
    "model.add(Dense(256, activation=\"relu\"))\n",
    "# model.add(Dropout(0.25))\n",
    "\n",
    "model.add(Dense(12, activation=\"softmax\"))\n",
    "\n",
    "BATCH_SIZE = 16\n",
    "EPOCHS = 20\n",
    "model.compile('adam', 'categorical_crossentropy', ['accuracy'])\n",
    "gen = ImageDataGenerator(\n",
    "            rotation_range=360.,\n",
    "            width_shift_range=0.2,\n",
    "            height_shift_range=0.2,\n",
    "            zoom_range=0,\n",
    "            horizontal_flip=True,\n",
    "            vertical_flip=True\n",
    "    )\n",
    "model.fit_generator(gen.flow(X_normalized, y_one_hot,batch_size=BATCH_SIZE),\n",
    "               steps_per_epoch=250,\n",
    "               epochs=EPOCHS,\n",
    "               verbose=1,\n",
    "               shuffle=True,\n",
    "               validation_data=(X_normalized_test, y_one_hot_test))\n",
    "\n",
    "\n",
    "# batch_size = 16\n",
    "\n",
    "#Cambiar E.S. por monitor = 'acc'\n",
    "earlyStopping=keras.callbacks.EarlyStopping(monitor='acc', patience=4, verbose=1, mode='auto')\n",
    "\n",
    "history = model.fit(X_normalized,\n",
    "                    y_one_hot,\n",
    "                    steps_per_epoch=20,\n",
    "                    epochs=10,\n",
    "                    verbose=1,\n",
    "                    callbacks=[earlyStopping],\n",
    "                   )\n",
    "\n",
    "preds = model.predict(X_normalized_test)\n",
    "predictions = label_binarizer.inverse_transform(preds)\n",
    "f1_s = round(f1_score(y_test, predictions, average='micro'),4)\n",
    "\n",
    "model_name = 'modelo_{}'.format(str(f1_s))\n",
    "model.save_weights('weights/{}.h5'.format(model_name))\n",
    "model.save('models/{}.h5'.format(model_name))\n",
    "\n",
    "model_load = load_model('models/{}.h5'.format(model_name))\n",
    "model_load.load_weights('weights/{}.h5'.format(model_name))\n",
    "test_score = model_load.evaluate(X_normalized_test, y_one_hot_test)\n",
    "test_score\n",
    "\n",
    "submit(model_load, test_normalized, 'f1s_{}.csv'.format(str(f1_s))"
   ]
  },
  {
   "cell_type": "code",
   "execution_count": 146,
   "metadata": {
    "collapsed": true
   },
   "outputs": [],
   "source": [
    "submit(model_load, test_normalized, 'f1s_{}.csv'.format(str(f1_s)))"
   ]
  },
  {
   "cell_type": "code",
   "execution_count": null,
   "metadata": {
    "collapsed": true
   },
   "outputs": [],
   "source": [
    "#NO OLVIDAR HACER STACKING!!!!"
   ]
  },
  {
   "cell_type": "code",
   "execution_count": 44,
   "metadata": {
    "scrolled": true
   },
   "outputs": [
    {
     "name": "stderr",
     "output_type": "stream",
     "text": [
      "/usr/local/lib/python3.5/dist-packages/ipykernel_launcher.py:2: UserWarning: Update your `Conv2D` call to the Keras 2 API: `Conv2D(32, (3, 3), activation=\"relu\", input_shape=(32, 32, 3...)`\n",
      "  \n",
      "/usr/local/lib/python3.5/dist-packages/ipykernel_launcher.py:4: UserWarning: Update your `Conv2D` call to the Keras 2 API: `Conv2D(32, (3, 3))`\n",
      "  after removing the cwd from sys.path.\n",
      "/usr/local/lib/python3.5/dist-packages/ipykernel_launcher.py:6: UserWarning: Update your `Conv2D` call to the Keras 2 API: `Conv2D(64, (3, 3))`\n",
      "  \n"
     ]
    },
    {
     "name": "stdout",
     "output_type": "stream",
     "text": [
      "Epoch 1/20\n",
      "200/200 [==============================] - 2s 12ms/step - loss: 2.3811 - acc: 0.1675 - val_loss: 2.1464 - val_acc: 0.2358\n",
      "Epoch 2/20\n",
      "200/200 [==============================] - 2s 10ms/step - loss: 1.9668 - acc: 0.2903 - val_loss: 1.8590 - val_acc: 0.3316\n",
      "Epoch 3/20\n",
      "200/200 [==============================] - 2s 11ms/step - loss: 1.8243 - acc: 0.3444 - val_loss: 1.6375 - val_acc: 0.4126\n",
      "Epoch 4/20\n",
      "200/200 [==============================] - 2s 11ms/step - loss: 1.6803 - acc: 0.4103 - val_loss: 1.5337 - val_acc: 0.4505\n",
      "Epoch 5/20\n",
      "200/200 [==============================] - 2s 10ms/step - loss: 1.5943 - acc: 0.4425 - val_loss: 1.4492 - val_acc: 0.4768\n",
      "Epoch 6/20\n",
      "200/200 [==============================] - 2s 10ms/step - loss: 1.5296 - acc: 0.4503 - val_loss: 1.5854 - val_acc: 0.4389\n",
      "Epoch 7/20\n",
      "200/200 [==============================] - 2s 10ms/step - loss: 1.4461 - acc: 0.4897 - val_loss: 1.3172 - val_acc: 0.5147\n",
      "Epoch 8/20\n",
      "200/200 [==============================] - 2s 11ms/step - loss: 1.4153 - acc: 0.4909 - val_loss: 1.2535 - val_acc: 0.5516\n",
      "Epoch 9/20\n",
      "200/200 [==============================] - 2s 11ms/step - loss: 1.3587 - acc: 0.5181 - val_loss: 1.2546 - val_acc: 0.5421\n",
      "Epoch 10/20\n",
      "200/200 [==============================] - 2s 12ms/step - loss: 1.3164 - acc: 0.5269 - val_loss: 1.2144 - val_acc: 0.5832\n",
      "Epoch 11/20\n",
      "200/200 [==============================] - 2s 11ms/step - loss: 1.3092 - acc: 0.5353 - val_loss: 1.2033 - val_acc: 0.5937\n",
      "Epoch 12/20\n",
      "200/200 [==============================] - 2s 11ms/step - loss: 1.2690 - acc: 0.5572 - val_loss: 1.2038 - val_acc: 0.5800\n",
      "Epoch 13/20\n",
      "200/200 [==============================] - 2s 10ms/step - loss: 1.2794 - acc: 0.5472 - val_loss: 1.1608 - val_acc: 0.5726\n",
      "Epoch 14/20\n",
      "200/200 [==============================] - 2s 11ms/step - loss: 1.2426 - acc: 0.5619 - val_loss: 1.0591 - val_acc: 0.6242\n",
      "Epoch 15/20\n",
      "200/200 [==============================] - 2s 11ms/step - loss: 1.1967 - acc: 0.5697 - val_loss: 1.0501 - val_acc: 0.6326\n",
      "Epoch 16/20\n",
      "200/200 [==============================] - 2s 11ms/step - loss: 1.1639 - acc: 0.5984 - val_loss: 1.0155 - val_acc: 0.6389\n",
      "Epoch 17/20\n",
      "200/200 [==============================] - 2s 11ms/step - loss: 1.1242 - acc: 0.6066 - val_loss: 1.3248 - val_acc: 0.5284\n",
      "Epoch 18/20\n",
      "200/200 [==============================] - 2s 11ms/step - loss: 1.1370 - acc: 0.5903 - val_loss: 1.0152 - val_acc: 0.6484\n",
      "Epoch 19/20\n",
      "200/200 [==============================] - 2s 10ms/step - loss: 1.1126 - acc: 0.6094 - val_loss: 1.0249 - val_acc: 0.6568\n",
      "Epoch 20/20\n",
      "200/200 [==============================] - 2s 12ms/step - loss: 1.1276 - acc: 0.6072 - val_loss: 0.9546 - val_acc: 0.6811\n",
      "Epoch 1/60\n",
      "50/50 [==============================] - 74s 1s/step - loss: 0.8790 - acc: 0.6852\n",
      "Epoch 2/60\n",
      "50/50 [==============================] - 74s 1s/step - loss: 0.8001 - acc: 0.7143\n",
      "Epoch 3/60\n",
      "50/50 [==============================] - 74s 1s/step - loss: 0.7583 - acc: 0.7306\n",
      "Epoch 4/60\n",
      "50/50 [==============================] - 74s 1s/step - loss: 0.7247 - acc: 0.7433\n",
      "Epoch 5/60\n",
      "50/50 [==============================] - 74s 1s/step - loss: 0.6952 - acc: 0.7532\n",
      "Epoch 6/60\n",
      "50/50 [==============================] - 74s 1s/step - loss: 0.6645 - acc: 0.7645\n",
      "Epoch 7/60\n",
      "50/50 [==============================] - 75s 1s/step - loss: 0.6399 - acc: 0.7747\n",
      "Epoch 8/60\n",
      "50/50 [==============================] - 74s 1s/step - loss: 0.6133 - acc: 0.7843\n",
      "Epoch 9/60\n",
      "50/50 [==============================] - 75s 1s/step - loss: 0.5872 - acc: 0.7955\n",
      "Epoch 10/60\n",
      "50/50 [==============================] - 74s 1s/step - loss: 0.5624 - acc: 0.8045\n",
      "Epoch 11/60\n",
      "50/50 [==============================] - 74s 1s/step - loss: 0.5362 - acc: 0.8145\n",
      "Epoch 12/60\n",
      "50/50 [==============================] - 74s 1s/step - loss: 0.5126 - acc: 0.8229\n",
      "Epoch 13/60\n",
      "50/50 [==============================] - 74s 1s/step - loss: 0.4879 - acc: 0.8326\n",
      "Epoch 14/60\n",
      "50/50 [==============================] - 74s 1s/step - loss: 0.4636 - acc: 0.8419\n",
      "Epoch 15/60\n",
      "50/50 [==============================] - 75s 1s/step - loss: 0.4398 - acc: 0.8509\n",
      "Epoch 16/60\n",
      "50/50 [==============================] - 75s 1s/step - loss: 0.4179 - acc: 0.8584\n",
      "Epoch 17/60\n",
      "50/50 [==============================] - 75s 1s/step - loss: 0.3962 - acc: 0.8656\n",
      "Epoch 18/60\n",
      "50/50 [==============================] - 75s 1s/step - loss: 0.3742 - acc: 0.8753\n",
      "Epoch 19/60\n",
      "50/50 [==============================] - 74s 1s/step - loss: 0.3548 - acc: 0.8814\n",
      "Epoch 20/60\n",
      "50/50 [==============================] - 75s 1s/step - loss: 0.3337 - acc: 0.8886\n",
      "Epoch 21/60\n",
      "50/50 [==============================] - 75s 2s/step - loss: 0.3146 - acc: 0.8956\n",
      "Epoch 22/60\n",
      "50/50 [==============================] - 75s 1s/step - loss: 0.2964 - acc: 0.9019\n",
      "Epoch 23/60\n",
      "50/50 [==============================] - 74s 1s/step - loss: 0.2779 - acc: 0.9091\n",
      "Epoch 24/60\n",
      "50/50 [==============================] - 75s 1s/step - loss: 0.2620 - acc: 0.9147\n",
      "Epoch 25/60\n",
      "50/50 [==============================] - 75s 1s/step - loss: 0.2458 - acc: 0.9205\n",
      "Epoch 26/60\n",
      "50/50 [==============================] - 75s 1s/step - loss: 0.2309 - acc: 0.9257\n",
      "Epoch 27/60\n",
      "50/50 [==============================] - 75s 1s/step - loss: 0.2169 - acc: 0.9306\n",
      "Epoch 28/60\n",
      "50/50 [==============================] - 75s 2s/step - loss: 0.2015 - acc: 0.9365\n",
      "Epoch 29/60\n",
      "50/50 [==============================] - 74s 1s/step - loss: 0.1889 - acc: 0.9398\n",
      "Epoch 30/60\n",
      "50/50 [==============================] - 74s 1s/step - loss: 0.1763 - acc: 0.9452\n",
      "Epoch 31/60\n",
      "50/50 [==============================] - 75s 1s/step - loss: 0.1660 - acc: 0.9482\n",
      "Epoch 32/60\n",
      "50/50 [==============================] - 75s 2s/step - loss: 0.1550 - acc: 0.9519\n",
      "Epoch 33/60\n",
      "50/50 [==============================] - 75s 2s/step - loss: 0.1458 - acc: 0.9555\n",
      "Epoch 34/60\n",
      "50/50 [==============================] - 75s 2s/step - loss: 0.1364 - acc: 0.9589\n",
      "Epoch 35/60\n",
      "50/50 [==============================] - 74s 1s/step - loss: 0.1279 - acc: 0.9618\n",
      "Epoch 36/60\n",
      "50/50 [==============================] - 75s 1s/step - loss: 0.1211 - acc: 0.9634\n",
      "Epoch 37/60\n",
      "50/50 [==============================] - 75s 1s/step - loss: 0.1119 - acc: 0.9665\n",
      "Epoch 38/60\n",
      "50/50 [==============================] - 75s 2s/step - loss: 0.1050 - acc: 0.9688\n",
      "Epoch 39/60\n",
      "50/50 [==============================] - 75s 1s/step - loss: 0.0995 - acc: 0.9704\n",
      "Epoch 40/60\n",
      "50/50 [==============================] - 75s 1s/step - loss: 0.0922 - acc: 0.9729\n",
      "Epoch 41/60\n",
      "50/50 [==============================] - 75s 1s/step - loss: 0.0853 - acc: 0.9753\n",
      "Epoch 42/60\n",
      "50/50 [==============================] - 75s 1s/step - loss: 0.0809 - acc: 0.9761\n",
      "Epoch 43/60\n",
      "50/50 [==============================] - 75s 1s/step - loss: 0.0773 - acc: 0.9770\n",
      "Epoch 44/60\n",
      "50/50 [==============================] - 75s 1s/step - loss: 0.0725 - acc: 0.9785\n",
      "Epoch 45/60\n",
      "50/50 [==============================] - 75s 1s/step - loss: 0.0672 - acc: 0.9802\n",
      "Epoch 46/60\n",
      "50/50 [==============================] - 75s 1s/step - loss: 0.0630 - acc: 0.9821\n",
      "Epoch 47/60\n",
      "50/50 [==============================] - 74s 1s/step - loss: 0.0594 - acc: 0.9833\n",
      "Epoch 48/60\n",
      "50/50 [==============================] - 75s 1s/step - loss: 0.0559 - acc: 0.9843\n",
      "Epoch 49/60\n",
      "50/50 [==============================] - 75s 2s/step - loss: 0.0528 - acc: 0.9853\n",
      "Epoch 50/60\n",
      "50/50 [==============================] - 75s 2s/step - loss: 0.0486 - acc: 0.9868\n",
      "Epoch 51/60\n",
      "50/50 [==============================] - 75s 2s/step - loss: 0.0465 - acc: 0.9872\n",
      "Epoch 52/60\n",
      "50/50 [==============================] - 75s 1s/step - loss: 0.0442 - acc: 0.9881\n",
      "Epoch 53/60\n",
      "50/50 [==============================] - 75s 1s/step - loss: 0.0408 - acc: 0.9896\n",
      "Epoch 54/60\n",
      "50/50 [==============================] - 75s 2s/step - loss: 0.0384 - acc: 0.9900\n",
      "Epoch 55/60\n",
      "50/50 [==============================] - 77s 2s/step - loss: 0.0351 - acc: 0.9912\n",
      "Epoch 56/60\n",
      "50/50 [==============================] - 77s 2s/step - loss: 0.0338 - acc: 0.9916\n",
      "Epoch 57/60\n",
      "50/50 [==============================] - 76s 2s/step - loss: 0.0323 - acc: 0.9920\n",
      "Epoch 58/60\n",
      "50/50 [==============================] - 76s 2s/step - loss: 0.0292 - acc: 0.9930\n",
      "Epoch 59/60\n",
      "50/50 [==============================] - 75s 2s/step - loss: 0.0272 - acc: 0.9936\n",
      "Epoch 60/60\n",
      "50/50 [==============================] - 76s 2s/step - loss: 0.0259 - acc: 0.9941\n",
      "950/950 [==============================] - 0s 239us/step\n"
     ]
    },
    {
     "data": {
      "text/plain": [
       "[1.0009187151883778, 0.8031578946113587]"
      ]
     },
     "execution_count": 44,
     "metadata": {},
     "output_type": "execute_result"
    }
   ],
   "source": [
    "model = Sequential()\n",
    "model.add(Convolution2D(32, 3, 3, input_shape=(32, 32, 3), activation=\"relu\"))\n",
    "model.add(MaxPooling2D((2, 2)))\n",
    "model.add(Convolution2D(32, 3, 3))\n",
    "model.add(MaxPooling2D((2, 2)))\n",
    "model.add(Convolution2D(64, 3, 3))\n",
    "model.add(MaxPooling2D((3, 3)))\n",
    "model.add(Flatten())\n",
    "model.add(Dense(128, activation=\"relu\"))\n",
    "model.add(Dropout(0.25))\n",
    "model.add(Dense(12,activation=\"sigmoid\"))\n",
    "\n",
    "\n",
    "batch_size = 16\n",
    "\n",
    "BATCH_SIZE = 16\n",
    "EPOCHS = 20\n",
    "model.compile('adam', 'categorical_crossentropy', ['accuracy'])\n",
    "gen = ImageDataGenerator(\n",
    "            rotation_range=360.,\n",
    "            width_shift_range=0.2,\n",
    "            height_shift_range=0.2,\n",
    "            zoom_range=0.2,\n",
    "            horizontal_flip=False,\n",
    "            vertical_flip=False\n",
    "    )\n",
    "model.fit_generator(gen.flow(X_normalized, y_one_hot,batch_size=BATCH_SIZE),\n",
    "               steps_per_epoch=200,\n",
    "               epochs=EPOCHS,\n",
    "               verbose=1,\n",
    "               shuffle=True,\n",
    "               validation_data=(X_normalized_test, y_one_hot_test))\n",
    "\n",
    "#Cambiar E.S. por monitor = 'acc'\n",
    "earlyStopping=keras.callbacks.EarlyStopping(monitor='acc', patience=4, verbose=1, mode='auto')\n",
    "\n",
    "history = model.fit(X_normalized,\n",
    "                    y_one_hot,\n",
    "                    steps_per_epoch=50,\n",
    "                    epochs=60,\n",
    "                    callbacks=[earlyStopping],\n",
    "                   )\n",
    "\n",
    "model_name = 'modelo4'\n",
    "model.save_weights('weights/{}.h5'.format(model_name))\n",
    "model.save('models/{}.h5'.format(model_name))\n",
    "\n",
    "model_load = load_model('models/{}.h5'.format(model_name))\n",
    "model_load.load_weights('weights/{}.h5'.format(model_name))\n",
    "test_score = model_load.evaluate(X_normalized_test, y_one_hot_test)\n",
    "test_score"
   ]
  },
  {
   "cell_type": "code",
   "execution_count": 109,
   "metadata": {
    "collapsed": true
   },
   "outputs": [],
   "source": [
    "model_name = 'modelo6'\n",
    "model_load = load_m(model_name)"
   ]
  },
  {
   "cell_type": "code",
   "execution_count": 115,
   "metadata": {
    "collapsed": true
   },
   "outputs": [],
   "source": [
    "preds = model_load.predict(X_normalized_test)"
   ]
  },
  {
   "cell_type": "code",
   "execution_count": 116,
   "metadata": {
    "collapsed": true
   },
   "outputs": [],
   "source": [
    "predictions = label_binarizer.inverse_transform(preds)"
   ]
  },
  {
   "cell_type": "code",
   "execution_count": 117,
   "metadata": {},
   "outputs": [
    {
     "data": {
      "text/plain": [
       "array([10,  9,  4,  4, 10,  4, 10,  0, 11,  4])"
      ]
     },
     "execution_count": 117,
     "metadata": {},
     "output_type": "execute_result"
    }
   ],
   "source": [
    "predictions[:10]"
   ]
  },
  {
   "cell_type": "code",
   "execution_count": 118,
   "metadata": {},
   "outputs": [
    {
     "data": {
      "text/plain": [
       "array([[  9,   2,   0,   0,   1,   6,   0,   0,   0,   3,   0,  23],\n",
       "       [  1,  47,   1,   0,   5,   0,   2,   8,   2,   0,   9,  20],\n",
       "       [  0,   0,  76,   2,   0,   1,  11,   6,   1,   0,   2,   0],\n",
       "       [  0,   0,   1,  19,  12,   0,   3,   0,   0,   0,   9,   0],\n",
       "       [  1,   3,   0,   2,  64,   1,   6,   8,   1,   0,  12,   5],\n",
       "       [  5,   0,   2,   0,   0,  44,   4,   0,   0,   0,   1,   2],\n",
       "       [  1,   2,   3,   1,   5,   7,  59,   0,   0,   0,   0,   0],\n",
       "       [  1,   5,  10,   2,  13,   0,   0,  41,   1,   0,   4,   0],\n",
       "       [  0,   0,   4,   0,   9,   2,   4,   2,  20,   0,   5,   0],\n",
       "       [  0,   0,   0,   0,   2,   0,   0,   1,   0,   5,   0,  45],\n",
       "       [  0,   0,   3,   2,   6,   0,   2,   1,   5,   0, 102,   1],\n",
       "       [  0,   1,   0,   0,   1,   0,   0,   1,   0,   8,   0, 120]])"
      ]
     },
     "execution_count": 118,
     "metadata": {},
     "output_type": "execute_result"
    }
   ],
   "source": [
    "cm = confusion_matrix(y_test, predictions)\n",
    "cm"
   ]
  },
  {
   "cell_type": "code",
   "execution_count": 119,
   "metadata": {},
   "outputs": [
    {
     "data": {
      "text/plain": [
       "0.6378947368421053"
      ]
     },
     "execution_count": 119,
     "metadata": {},
     "output_type": "execute_result"
    }
   ],
   "source": [
    "f1_score(y_test, predictions, average='micro')"
   ]
  },
  {
   "cell_type": "code",
   "execution_count": 96,
   "metadata": {
    "collapsed": true
   },
   "outputs": [],
   "source": [
    "names_preds = [number_to_names[str(i)] for i in predictions]"
   ]
  },
  {
   "cell_type": "code",
   "execution_count": 97,
   "metadata": {},
   "outputs": [
    {
     "data": {
      "text/plain": [
       "['Common Chickweed',\n",
       " 'Loose Silky-bent',\n",
       " 'Maize',\n",
       " 'Small-flowered Cranesbill',\n",
       " 'Sugar beet',\n",
       " 'Common Chickweed',\n",
       " 'Small-flowered Cranesbill',\n",
       " 'Fat Hen',\n",
       " 'Loose Silky-bent',\n",
       " 'Scentless Mayweed']"
      ]
     },
     "execution_count": 97,
     "metadata": {},
     "output_type": "execute_result"
    }
   ],
   "source": [
    "names_preds[:10]"
   ]
  },
  {
   "cell_type": "code",
   "execution_count": 112,
   "metadata": {
    "collapsed": true
   },
   "outputs": [],
   "source": [
    "# test_normalized\n",
    "def submit(model, data, sub_name):\n",
    "    path_test = [df_test['path'][i].split('/')[-1] for i in range(len(df_test['path']))]\n",
    "    pr1 = model.predict(data)\n",
    "    pr2 = label_binarizer.inverse_transform(pr1)\n",
    "    names_pr = [number_to_names[str(i)] for i in pr2]\n",
    "    submiss = pd.DataFrame({'file': path_test, 'species': names_pr})\n",
    "    submiss.to_csv('submissions/{}'.format(sub_name), index=None)"
   ]
  },
  {
   "cell_type": "code",
   "execution_count": 113,
   "metadata": {
    "collapsed": true
   },
   "outputs": [],
   "source": [
    "submit(model_load, test_normalized, 'sexto.csv')"
   ]
  },
  {
   "cell_type": "code",
   "execution_count": null,
   "metadata": {
    "collapsed": true
   },
   "outputs": [],
   "source": [
    "preds_sub = model_load.predict(df_test['path'])"
   ]
  },
  {
   "cell_type": "code",
   "execution_count": 89,
   "metadata": {},
   "outputs": [
    {
     "name": "stderr",
     "output_type": "stream",
     "text": [
      "/usr/local/lib/python3.5/dist-packages/ipykernel_launcher.py:2: UserWarning: Update your `Conv2D` call to the Keras 2 API: `Conv2D(32, (3, 3), input_shape=(32, 32, 3..., activation=\"relu\")`\n",
      "  \n",
      "/usr/local/lib/python3.5/dist-packages/ipykernel_launcher.py:4: UserWarning: Update your `Conv2D` call to the Keras 2 API: `Conv2D(32, (3, 3))`\n",
      "  after removing the cwd from sys.path.\n",
      "/usr/local/lib/python3.5/dist-packages/ipykernel_launcher.py:6: UserWarning: Update your `Conv2D` call to the Keras 2 API: `Conv2D(64, (3, 3))`\n",
      "  \n"
     ]
    }
   ],
   "source": [
    "model = Sequential()\n",
    "model.add(Convolution2D(32, 3, 3, input_shape=(32, 32, 3), activation=\"relu\"))\n",
    "model.add(MaxPooling2D((2, 2)))\n",
    "model.add(Convolution2D(32, 3, 3))\n",
    "model.add(MaxPooling2D((2, 2)))\n",
    "model.add(Convolution2D(64, 3, 3))\n",
    "model.add(MaxPooling2D((2, 2)))\n",
    "model.add(Flatten())\n",
    "model.add(Dense(128, activation=\"relu\"))\n",
    "model.add(Dropout(0.25))\n",
    "model.add(Dense(12,activation=\"sigmoid\"))"
   ]
  },
  {
   "cell_type": "code",
   "execution_count": 94,
   "metadata": {
    "scrolled": true
   },
   "outputs": [
    {
     "name": "stdout",
     "output_type": "stream",
     "text": [
      "Epoch 1/50\n",
      "125/125 [==============================] - 195s 2s/step - loss: 1.8430 - acc: 0.3354\n",
      "Epoch 2/50\n",
      "125/125 [==============================] - 194s 2s/step - loss: 1.0094 - acc: 0.6440\n",
      "Epoch 3/50\n",
      "125/125 [==============================] - 191s 2s/step - loss: 0.6408 - acc: 0.7812\n",
      "Epoch 4/50\n",
      "125/125 [==============================] - 192s 2s/step - loss: 0.4275 - acc: 0.8566\n",
      "Epoch 5/50\n",
      "125/125 [==============================] - 191s 2s/step - loss: 0.2986 - acc: 0.9013\n",
      "Epoch 6/50\n",
      "125/125 [==============================] - 193s 2s/step - loss: 0.2122 - acc: 0.9314\n",
      "Epoch 7/50\n",
      "125/125 [==============================] - 192s 2s/step - loss: 0.1580 - acc: 0.9497\n",
      "Epoch 8/50\n",
      "125/125 [==============================] - 191s 2s/step - loss: 0.1199 - acc: 0.9627\n",
      "Epoch 9/50\n",
      "125/125 [==============================] - 192s 2s/step - loss: 0.0903 - acc: 0.9727\n",
      "Epoch 10/50\n",
      "125/125 [==============================] - 192s 2s/step - loss: 0.0703 - acc: 0.9799\n",
      "Epoch 11/50\n",
      "125/125 [==============================] - 191s 2s/step - loss: 0.0602 - acc: 0.9829\n",
      "Epoch 12/50\n",
      "125/125 [==============================] - 191s 2s/step - loss: 0.0450 - acc: 0.9881\n",
      "Epoch 13/50\n",
      "125/125 [==============================] - 191s 2s/step - loss: 0.0388 - acc: 0.9897\n",
      "Epoch 14/50\n",
      "125/125 [==============================] - 191s 2s/step - loss: 0.0320 - acc: 0.9917\n",
      "Epoch 15/50\n",
      "125/125 [==============================] - 191s 2s/step - loss: 0.0284 - acc: 0.9927\n",
      "Epoch 16/50\n",
      "125/125 [==============================] - 193s 2s/step - loss: 0.0235 - acc: 0.9941\n",
      "Epoch 17/50\n",
      "125/125 [==============================] - 192s 2s/step - loss: 0.0201 - acc: 0.9950\n",
      "Epoch 18/50\n",
      "125/125 [==============================] - 191s 2s/step - loss: 0.0179 - acc: 0.9956\n",
      "Epoch 19/50\n",
      "125/125 [==============================] - 194s 2s/step - loss: 0.0168 - acc: 0.9958\n",
      "Epoch 20/50\n",
      "125/125 [==============================] - 194s 2s/step - loss: 0.0142 - acc: 0.9965\n",
      "Epoch 21/50\n",
      "125/125 [==============================] - 195s 2s/step - loss: 0.0132 - acc: 0.9968\n",
      "Epoch 22/50\n",
      "125/125 [==============================] - 194s 2s/step - loss: 0.0137 - acc: 0.9964\n",
      "Epoch 23/50\n",
      "125/125 [==============================] - 195s 2s/step - loss: 0.1812 - acc: 0.9814\n",
      "Epoch 24/50\n",
      "125/125 [==============================] - 190s 2s/step - loss: nan - acc: 0.0481\n",
      "Epoch 25/50\n",
      "125/125 [==============================] - 188s 2s/step - loss: nan - acc: 0.0466\n",
      "Epoch 26/50\n",
      "125/125 [==============================] - 190s 2s/step - loss: nan - acc: 0.0466\n",
      "Epoch 27/50\n",
      "125/125 [==============================] - 188s 2s/step - loss: nan - acc: 0.0466\n",
      "Epoch 28/50\n",
      "125/125 [==============================] - 189s 2s/step - loss: nan - acc: 0.0466\n",
      "Epoch 29/50\n",
      "125/125 [==============================] - 189s 2s/step - loss: nan - acc: 0.0466\n",
      "Epoch 30/50\n",
      "125/125 [==============================] - 189s 2s/step - loss: nan - acc: 0.0466\n",
      "Epoch 31/50\n",
      "125/125 [==============================] - 189s 2s/step - loss: nan - acc: 0.0466\n",
      "Epoch 32/50\n",
      "125/125 [==============================] - 189s 2s/step - loss: nan - acc: 0.0466\n",
      "Epoch 33/50\n",
      "125/125 [==============================] - 189s 2s/step - loss: nan - acc: 0.0466\n",
      "Epoch 34/50\n",
      "125/125 [==============================] - 189s 2s/step - loss: nan - acc: 0.0466\n",
      "Epoch 35/50\n",
      "125/125 [==============================] - 189s 2s/step - loss: nan - acc: 0.0466\n",
      "Epoch 36/50\n",
      "125/125 [==============================] - 190s 2s/step - loss: nan - acc: 0.0466\n",
      "Epoch 37/50\n",
      "125/125 [==============================] - 189s 2s/step - loss: nan - acc: 0.0466\n",
      "Epoch 38/50\n",
      "125/125 [==============================] - 190s 2s/step - loss: nan - acc: 0.0466\n",
      "Epoch 39/50\n",
      "125/125 [==============================] - 189s 2s/step - loss: nan - acc: 0.0466\n",
      "Epoch 40/50\n",
      "125/125 [==============================] - 190s 2s/step - loss: nan - acc: 0.0466\n",
      "Epoch 41/50\n",
      "125/125 [==============================] - 190s 2s/step - loss: nan - acc: 0.0466\n",
      "Epoch 42/50\n",
      "125/125 [==============================] - 189s 2s/step - loss: nan - acc: 0.0466\n",
      "Epoch 43/50\n",
      "125/125 [==============================] - 189s 2s/step - loss: nan - acc: 0.0466\n",
      "Epoch 44/50\n",
      "125/125 [==============================] - 189s 2s/step - loss: nan - acc: 0.0466\n",
      "Epoch 45/50\n",
      "125/125 [==============================] - 193s 2s/step - loss: nan - acc: 0.0466\n",
      "Epoch 46/50\n",
      "125/125 [==============================] - 195s 2s/step - loss: nan - acc: 0.0466\n",
      "Epoch 47/50\n",
      "125/125 [==============================] - 192s 2s/step - loss: nan - acc: 0.0466\n",
      "Epoch 48/50\n",
      "125/125 [==============================] - 192s 2s/step - loss: nan - acc: 0.0466\n",
      "Epoch 49/50\n",
      "125/125 [==============================] - 192s 2s/step - loss: nan - acc: 0.0466\n",
      "Epoch 50/50\n",
      "125/125 [==============================] - 192s 2s/step - loss: nan - acc: 0.0466\n"
     ]
    },
    {
     "ename": "ImportError",
     "evalue": "`save_weights` requires h5py.",
     "output_type": "error",
     "traceback": [
      "\u001b[0;31m---------------------------------------------------------------------------\u001b[0m",
      "\u001b[0;31mImportError\u001b[0m                               Traceback (most recent call last)",
      "\u001b[0;32m<ipython-input-94-cccf0bdf6a43>\u001b[0m in \u001b[0;36m<module>\u001b[0;34m()\u001b[0m\n\u001b[1;32m      6\u001b[0m                     \u001b[0mepochs\u001b[0m\u001b[0;34m=\u001b[0m\u001b[0;36m50\u001b[0m\u001b[0;34m\u001b[0m\u001b[0m\n\u001b[1;32m      7\u001b[0m                    )\n\u001b[0;32m----> 8\u001b[0;31m \u001b[0mmodel\u001b[0m\u001b[0;34m.\u001b[0m\u001b[0msave_weights\u001b[0m\u001b[0;34m(\u001b[0m\u001b[0;34m'weights/first_try.h5'\u001b[0m\u001b[0;34m)\u001b[0m\u001b[0;34m\u001b[0m\u001b[0m\n\u001b[0m\u001b[1;32m      9\u001b[0m \u001b[0mtest_score\u001b[0m \u001b[0;34m=\u001b[0m \u001b[0mmodel\u001b[0m\u001b[0;34m.\u001b[0m\u001b[0mevaluate\u001b[0m\u001b[0;34m(\u001b[0m\u001b[0mX_normalized_test\u001b[0m\u001b[0;34m,\u001b[0m \u001b[0my_one_hot_test\u001b[0m\u001b[0;34m)\u001b[0m\u001b[0;34m\u001b[0m\u001b[0m\n\u001b[1;32m     10\u001b[0m \u001b[0mtest_score\u001b[0m\u001b[0;34m\u001b[0m\u001b[0m\n",
      "\u001b[0;32m/usr/local/lib/python3.5/dist-packages/keras/models.py\u001b[0m in \u001b[0;36msave_weights\u001b[0;34m(self, filepath, overwrite)\u001b[0m\n\u001b[1;32m    740\u001b[0m     \u001b[0;32mdef\u001b[0m \u001b[0msave_weights\u001b[0m\u001b[0;34m(\u001b[0m\u001b[0mself\u001b[0m\u001b[0;34m,\u001b[0m \u001b[0mfilepath\u001b[0m\u001b[0;34m,\u001b[0m \u001b[0moverwrite\u001b[0m\u001b[0;34m=\u001b[0m\u001b[0;32mTrue\u001b[0m\u001b[0;34m)\u001b[0m\u001b[0;34m:\u001b[0m\u001b[0;34m\u001b[0m\u001b[0m\n\u001b[1;32m    741\u001b[0m         \u001b[0;32mif\u001b[0m \u001b[0mh5py\u001b[0m \u001b[0;32mis\u001b[0m \u001b[0;32mNone\u001b[0m\u001b[0;34m:\u001b[0m\u001b[0;34m\u001b[0m\u001b[0m\n\u001b[0;32m--> 742\u001b[0;31m             \u001b[0;32mraise\u001b[0m \u001b[0mImportError\u001b[0m\u001b[0;34m(\u001b[0m\u001b[0;34m'`save_weights` requires h5py.'\u001b[0m\u001b[0;34m)\u001b[0m\u001b[0;34m\u001b[0m\u001b[0m\n\u001b[0m\u001b[1;32m    743\u001b[0m         \u001b[0;31m# If file exists and should not be overwritten:\u001b[0m\u001b[0;34m\u001b[0m\u001b[0;34m\u001b[0m\u001b[0m\n\u001b[1;32m    744\u001b[0m         \u001b[0;32mif\u001b[0m \u001b[0;32mnot\u001b[0m \u001b[0moverwrite\u001b[0m \u001b[0;32mand\u001b[0m \u001b[0mos\u001b[0m\u001b[0;34m.\u001b[0m\u001b[0mpath\u001b[0m\u001b[0;34m.\u001b[0m\u001b[0misfile\u001b[0m\u001b[0;34m(\u001b[0m\u001b[0mfilepath\u001b[0m\u001b[0;34m)\u001b[0m\u001b[0;34m:\u001b[0m\u001b[0;34m\u001b[0m\u001b[0m\n",
      "\u001b[0;31mImportError\u001b[0m: `save_weights` requires h5py."
     ]
    }
   ],
   "source": [
    "batch_size = 16\n",
    "model.compile('adam', 'categorical_crossentropy', ['accuracy'])\n",
    "history = model.fit(X_normalized,\n",
    "                    y_one_hot,\n",
    "                    steps_per_epoch=(2000 // batch_size),\n",
    "                    epochs=50\n",
    "                   )\n",
    "model.save_weights('weights/first_try.h5')\n",
    "test_score = model.evaluate(X_normalized_test, y_one_hot_test)\n",
    "test_score"
   ]
  },
  {
   "cell_type": "code",
   "execution_count": 110,
   "metadata": {
    "scrolled": true
   },
   "outputs": [
    {
     "ename": "ImportError",
     "evalue": "`save_model` requires h5py.",
     "output_type": "error",
     "traceback": [
      "\u001b[0;31m---------------------------------------------------------------------------\u001b[0m",
      "\u001b[0;31mImportError\u001b[0m                               Traceback (most recent call last)",
      "\u001b[0;32m<ipython-input-110-0b56ba1fc3fa>\u001b[0m in \u001b[0;36m<module>\u001b[0;34m()\u001b[0m\n\u001b[0;32m----> 1\u001b[0;31m \u001b[0mmodel\u001b[0m\u001b[0;34m.\u001b[0m\u001b[0msave\u001b[0m\u001b[0;34m(\u001b[0m\u001b[0;34m'models/my_model.h5'\u001b[0m\u001b[0;34m)\u001b[0m\u001b[0;34m\u001b[0m\u001b[0m\n\u001b[0m",
      "\u001b[0;32m/usr/local/lib/python3.5/dist-packages/keras/engine/topology.py\u001b[0m in \u001b[0;36msave\u001b[0;34m(self, filepath, overwrite, include_optimizer)\u001b[0m\n\u001b[1;32m   2578\u001b[0m         \"\"\"\n\u001b[1;32m   2579\u001b[0m         \u001b[0;32mfrom\u001b[0m \u001b[0;34m.\u001b[0m\u001b[0;34m.\u001b[0m\u001b[0mmodels\u001b[0m \u001b[0;32mimport\u001b[0m \u001b[0msave_model\u001b[0m\u001b[0;34m\u001b[0m\u001b[0m\n\u001b[0;32m-> 2580\u001b[0;31m         \u001b[0msave_model\u001b[0m\u001b[0;34m(\u001b[0m\u001b[0mself\u001b[0m\u001b[0;34m,\u001b[0m \u001b[0mfilepath\u001b[0m\u001b[0;34m,\u001b[0m \u001b[0moverwrite\u001b[0m\u001b[0;34m,\u001b[0m \u001b[0minclude_optimizer\u001b[0m\u001b[0;34m)\u001b[0m\u001b[0;34m\u001b[0m\u001b[0m\n\u001b[0m\u001b[1;32m   2581\u001b[0m \u001b[0;34m\u001b[0m\u001b[0m\n\u001b[1;32m   2582\u001b[0m     \u001b[0;32mdef\u001b[0m \u001b[0msave_weights\u001b[0m\u001b[0;34m(\u001b[0m\u001b[0mself\u001b[0m\u001b[0;34m,\u001b[0m \u001b[0mfilepath\u001b[0m\u001b[0;34m,\u001b[0m \u001b[0moverwrite\u001b[0m\u001b[0;34m=\u001b[0m\u001b[0;32mTrue\u001b[0m\u001b[0;34m)\u001b[0m\u001b[0;34m:\u001b[0m\u001b[0;34m\u001b[0m\u001b[0m\n",
      "\u001b[0;32m/usr/local/lib/python3.5/dist-packages/keras/models.py\u001b[0m in \u001b[0;36msave_model\u001b[0;34m(model, filepath, overwrite, include_optimizer)\u001b[0m\n\u001b[1;32m     58\u001b[0m \u001b[0;34m\u001b[0m\u001b[0m\n\u001b[1;32m     59\u001b[0m     \u001b[0;32mif\u001b[0m \u001b[0mh5py\u001b[0m \u001b[0;32mis\u001b[0m \u001b[0;32mNone\u001b[0m\u001b[0;34m:\u001b[0m\u001b[0;34m\u001b[0m\u001b[0m\n\u001b[0;32m---> 60\u001b[0;31m         \u001b[0;32mraise\u001b[0m \u001b[0mImportError\u001b[0m\u001b[0;34m(\u001b[0m\u001b[0;34m'`save_model` requires h5py.'\u001b[0m\u001b[0;34m)\u001b[0m\u001b[0;34m\u001b[0m\u001b[0m\n\u001b[0m\u001b[1;32m     61\u001b[0m \u001b[0;34m\u001b[0m\u001b[0m\n\u001b[1;32m     62\u001b[0m     \u001b[0;32mdef\u001b[0m \u001b[0mget_json_type\u001b[0m\u001b[0;34m(\u001b[0m\u001b[0mobj\u001b[0m\u001b[0;34m)\u001b[0m\u001b[0;34m:\u001b[0m\u001b[0;34m\u001b[0m\u001b[0m\n",
      "\u001b[0;31mImportError\u001b[0m: `save_model` requires h5py."
     ]
    }
   ],
   "source": [
    "model.save('models/my_model.h5')"
   ]
  },
  {
   "cell_type": "code",
   "execution_count": 111,
   "metadata": {},
   "outputs": [
    {
     "name": "stdout",
     "output_type": "stream",
     "text": [
      "950/950 [==============================] - 0s 186us/step\n"
     ]
    },
    {
     "data": {
      "text/plain": [
       "[nan, 0.04631578947368421]"
      ]
     },
     "execution_count": 111,
     "metadata": {},
     "output_type": "execute_result"
    }
   ],
   "source": [
    "# model.save_weights('weights/first_try.h5')\n",
    "test_score = model.evaluate(X_normalized_test, y_one_hot_test)\n",
    "test_score"
   ]
  },
  {
   "cell_type": "code",
   "execution_count": null,
   "metadata": {
    "collapsed": true
   },
   "outputs": [],
   "source": []
  },
  {
   "cell_type": "code",
   "execution_count": 59,
   "metadata": {},
   "outputs": [
    {
     "name": "stderr",
     "output_type": "stream",
     "text": [
      "/usr/local/lib/python3.5/dist-packages/ipykernel_launcher.py:7: UserWarning: Update your `Conv2D` call to the Keras 2 API: `Conv2D(32, (3, 3), activation=\"relu\", input_shape=(20, 20, 3...)`\n",
      "  import sys\n"
     ]
    }
   ],
   "source": [
    "\n",
    "\n",
    "# Creación del modelo convolucional con pooling\n",
    "model = Sequential()\n",
    "\n",
    "# Capa de convolución. Recibe las dimensiones de la capa de entrada. Para imágenes se usa la capa de Convolution2D\n",
    "model.add(Convolution2D(32, 3, 3, input_shape=(20, 20, 3), activation=\"relu\"))\n",
    "\n",
    "# Capa de pooling para datos espaciales, tamaño de ventana 2x2\n",
    "model.add(MaxPooling2D((3, 3)))\n",
    "\n",
    "model.add(Flatten())\n",
    "\n",
    "# Esta añade una capa densamente conectada no es necesario indicarle el tamaño de entrada dado\n",
    "# que no es la primera capa del modelo\n",
    "model.add(Dense(128, activation=\"relu\"))\n",
    "\n",
    "# Capa densamente conectada en la que se indica el número de neuronas a la salida, que ha de \n",
    "# coincidir con el número de clases con las que se trabaja\n",
    "model.add(Dense(12, activation=\"softmax\"))\n",
    "\n"
   ]
  },
  {
   "cell_type": "code",
   "execution_count": 60,
   "metadata": {},
   "outputs": [
    {
     "name": "stderr",
     "output_type": "stream",
     "text": [
      "/usr/local/lib/python3.5/dist-packages/keras/models.py:942: UserWarning: The `nb_epoch` argument in `fit` has been renamed `epochs`.\n",
      "  warnings.warn('The `nb_epoch` argument in `fit` '\n"
     ]
    },
    {
     "name": "stdout",
     "output_type": "stream",
     "text": [
      "Train on 3040 samples, validate on 760 samples\n",
      "Epoch 1/20\n",
      " - 1s - loss: 2.3883 - acc: 0.1724 - val_loss: 2.2475 - val_acc: 0.2632\n",
      "Epoch 2/20\n",
      " - 1s - loss: 2.1200 - acc: 0.2905 - val_loss: 1.8966 - val_acc: 0.3368\n",
      "Epoch 3/20\n",
      " - 1s - loss: 1.7709 - acc: 0.3839 - val_loss: 1.6285 - val_acc: 0.4211\n",
      "Epoch 4/20\n",
      " - 1s - loss: 1.5503 - acc: 0.4615 - val_loss: 1.5131 - val_acc: 0.4632\n",
      "Epoch 5/20\n",
      " - 1s - loss: 1.4217 - acc: 0.5056 - val_loss: 1.3870 - val_acc: 0.5263\n",
      "Epoch 6/20\n",
      " - 1s - loss: 1.3085 - acc: 0.5444 - val_loss: 1.3932 - val_acc: 0.4961\n",
      "Epoch 7/20\n",
      " - 1s - loss: 1.2389 - acc: 0.5717 - val_loss: 1.3465 - val_acc: 0.5066\n",
      "Epoch 8/20\n",
      " - 1s - loss: 1.1992 - acc: 0.5720 - val_loss: 1.2919 - val_acc: 0.5408\n",
      "Epoch 9/20\n",
      " - 1s - loss: 1.1251 - acc: 0.6207 - val_loss: 1.2644 - val_acc: 0.5395\n",
      "Epoch 10/20\n",
      " - 1s - loss: 1.0712 - acc: 0.6414 - val_loss: 1.3313 - val_acc: 0.5513\n",
      "Epoch 11/20\n",
      " - 1s - loss: 1.0435 - acc: 0.6441 - val_loss: 1.2277 - val_acc: 0.5539\n",
      "Epoch 12/20\n",
      " - 1s - loss: 0.9887 - acc: 0.6711 - val_loss: 1.2245 - val_acc: 0.5632\n",
      "Epoch 13/20\n",
      " - 1s - loss: 0.9589 - acc: 0.6822 - val_loss: 1.2069 - val_acc: 0.5553\n",
      "Epoch 14/20\n",
      " - 1s - loss: 0.9146 - acc: 0.6980 - val_loss: 1.1611 - val_acc: 0.5803\n",
      "Epoch 15/20\n",
      " - 1s - loss: 0.8679 - acc: 0.7158 - val_loss: 1.1862 - val_acc: 0.5934\n",
      "Epoch 16/20\n",
      " - 1s - loss: 0.8398 - acc: 0.7273 - val_loss: 1.1442 - val_acc: 0.6039\n",
      "Epoch 17/20\n",
      " - 1s - loss: 0.8068 - acc: 0.7322 - val_loss: 1.1535 - val_acc: 0.5947\n",
      "Epoch 18/20\n",
      " - 1s - loss: 0.7749 - acc: 0.7454 - val_loss: 1.1158 - val_acc: 0.6171\n",
      "Epoch 19/20\n",
      " - 1s - loss: 0.7434 - acc: 0.7559 - val_loss: 1.1602 - val_acc: 0.6000\n",
      "Epoch 20/20\n",
      " - 1s - loss: 0.7187 - acc: 0.7668 - val_loss: 1.1502 - val_acc: 0.5921\n"
     ]
    }
   ],
   "source": [
    "model.compile('adam', 'categorical_crossentropy', ['accuracy'])\n",
    "history = model.fit(X_normalized, y_one_hot, nb_epoch=20, validation_split=0.20, verbose=2, shuffle=True)"
   ]
  },
  {
   "cell_type": "code",
   "execution_count": 65,
   "metadata": {},
   "outputs": [
    {
     "ename": "AttributeError",
     "evalue": "'KerasClassifier' object has no attribute 'evaluate'",
     "output_type": "error",
     "traceback": [
      "\u001b[0;31m---------------------------------------------------------------------------\u001b[0m",
      "\u001b[0;31mAttributeError\u001b[0m                            Traceback (most recent call last)",
      "\u001b[0;32m<ipython-input-65-79506c71ac8d>\u001b[0m in \u001b[0;36m<module>\u001b[0;34m()\u001b[0m\n\u001b[0;32m----> 1\u001b[0;31m \u001b[0mtest_score\u001b[0m \u001b[0;34m=\u001b[0m \u001b[0mmodel\u001b[0m\u001b[0;34m.\u001b[0m\u001b[0mevaluate\u001b[0m\u001b[0;34m(\u001b[0m\u001b[0mX_normalized_test\u001b[0m\u001b[0;34m,\u001b[0m \u001b[0my_one_hot_test\u001b[0m\u001b[0;34m)\u001b[0m\u001b[0;34m\u001b[0m\u001b[0m\n\u001b[0m\u001b[1;32m      2\u001b[0m \u001b[0mtest_score\u001b[0m\u001b[0;34m\u001b[0m\u001b[0m\n",
      "\u001b[0;31mAttributeError\u001b[0m: 'KerasClassifier' object has no attribute 'evaluate'"
     ]
    }
   ],
   "source": [
    "test_score = model.evaluate(X_normalized_test, y_one_hot_test)\n",
    "test_score"
   ]
  },
  {
   "cell_type": "code",
   "execution_count": null,
   "metadata": {
    "collapsed": true
   },
   "outputs": [],
   "source": []
  },
  {
   "cell_type": "code",
   "execution_count": null,
   "metadata": {
    "collapsed": true
   },
   "outputs": [],
   "source": []
  },
  {
   "cell_type": "code",
   "execution_count": 103,
   "metadata": {},
   "outputs": [
    {
     "name": "stderr",
     "output_type": "stream",
     "text": [
      "/usr/local/lib/python3.5/dist-packages/ipykernel_launcher.py:5: UserWarning: Update your `Conv2D` call to the Keras 2 API: `Conv2D(8, (4, 4), activation=\"relu\", input_shape=(32, 32, 3...)`\n",
      "  \"\"\"\n",
      "/usr/local/lib/python3.5/dist-packages/ipykernel_launcher.py:14: UserWarning: Update your `Conv2D` call to the Keras 2 API: `Conv2D(16, (4, 4), activation=\"relu\")`\n",
      "  \n"
     ]
    }
   ],
   "source": [
    "# Creación del modelo convolucional con pooling\n",
    "model = Sequential()\n",
    "\n",
    "# Capa de convolución. Recibe las dimensiones de la capa de entrada. Para imágenes se usa la capa de Convolution2D\n",
    "model.add(Convolution2D(8, 4, 4, input_shape=(32, 32, 3), activation=\"relu\"))\n",
    "\n",
    "# Capa de pooling para datos espaciales, tamaño de ventana 2x2\n",
    "model.add(MaxPooling2D((2, 2)))\n",
    "\n",
    "# Capa de dropout para favorecer la capacidad de generalización\n",
    "model.add(Dropout(0.25))\n",
    "\n",
    "# Capa de convolución. Recibe las dimensiones de la capa de entrada. Para imágenes se usa la capa de Convolution2D\n",
    "model.add(Convolution2D(16, 4, 4, activation=\"relu\"))\n",
    "\n",
    "# Capa de pooling para datos espaciales, tamaño de ventana 2x2\n",
    "model.add(MaxPooling2D((2, 2)))\n",
    "\n",
    "# Capa de dropout para favorecer la capacidad de generalización\n",
    "model.add(Dropout(0.5))\n",
    "\n",
    "# Esta capa aplana la entrada de 32x32x3 en un solo tensor de 3072\n",
    "model.add(Flatten())\n",
    "\n",
    "# Esta añade una capa densamente conectada no es necesario indicarle el tamaño de entrada dado\n",
    "# que no es la primera capa del modelo\n",
    "\n",
    "model.add(Dense(512, activation=\"relu\"))\n",
    "\n",
    "# Capa densamente conectada en la que se indica el número de neuronas a la salida, que ha de \n",
    "# coincidir con el número de clases con las que se trabaja\n",
    "model.add(Dense(12, activation=\"softmax\"))"
   ]
  },
  {
   "cell_type": "code",
   "execution_count": 104,
   "metadata": {},
   "outputs": [
    {
     "name": "stderr",
     "output_type": "stream",
     "text": [
      "/usr/local/lib/python3.5/dist-packages/keras/models.py:942: UserWarning: The `nb_epoch` argument in `fit` has been renamed `epochs`.\n",
      "  warnings.warn('The `nb_epoch` argument in `fit` '\n"
     ]
    },
    {
     "name": "stdout",
     "output_type": "stream",
     "text": [
      "Train on 3040 samples, validate on 760 samples\n",
      "Epoch 1/20\n",
      " - 1s - loss: 2.4078 - acc: 0.1398 - val_loss: 2.3590 - val_acc: 0.1724\n",
      "Epoch 2/20\n",
      " - 1s - loss: 2.2754 - acc: 0.2056 - val_loss: 2.2599 - val_acc: 0.2263\n",
      "Epoch 3/20\n",
      " - 1s - loss: 1.9536 - acc: 0.3339 - val_loss: 1.8605 - val_acc: 0.3368\n",
      "Epoch 4/20\n",
      " - 1s - loss: 1.6813 - acc: 0.4227 - val_loss: 1.5331 - val_acc: 0.4355\n",
      "Epoch 5/20\n",
      " - 1s - loss: 1.5462 - acc: 0.4559 - val_loss: 1.4664 - val_acc: 0.4895\n",
      "Epoch 6/20\n",
      " - 1s - loss: 1.4307 - acc: 0.4836 - val_loss: 1.3033 - val_acc: 0.5434\n",
      "Epoch 7/20\n",
      " - 1s - loss: 1.3615 - acc: 0.5230 - val_loss: 1.2294 - val_acc: 0.5566\n",
      "Epoch 8/20\n",
      " - 1s - loss: 1.3116 - acc: 0.5388 - val_loss: 1.2709 - val_acc: 0.5921\n",
      "Epoch 9/20\n",
      " - 1s - loss: 1.2671 - acc: 0.5451 - val_loss: 1.1464 - val_acc: 0.6145\n",
      "Epoch 10/20\n",
      " - 1s - loss: 1.2165 - acc: 0.5661 - val_loss: 1.1110 - val_acc: 0.5974\n",
      "Epoch 11/20\n",
      " - 1s - loss: 1.2066 - acc: 0.5674 - val_loss: 1.1341 - val_acc: 0.6079\n",
      "Epoch 12/20\n",
      " - 1s - loss: 1.1853 - acc: 0.5760 - val_loss: 1.0841 - val_acc: 0.6474\n",
      "Epoch 13/20\n",
      " - 1s - loss: 1.1496 - acc: 0.5967 - val_loss: 1.0517 - val_acc: 0.6395\n",
      "Epoch 14/20\n",
      " - 1s - loss: 1.0939 - acc: 0.6141 - val_loss: 1.0808 - val_acc: 0.6303\n",
      "Epoch 15/20\n",
      " - 1s - loss: 1.0866 - acc: 0.6151 - val_loss: 1.0346 - val_acc: 0.6289\n",
      "Epoch 16/20\n",
      " - 1s - loss: 1.0601 - acc: 0.6224 - val_loss: 0.9716 - val_acc: 0.6737\n",
      "Epoch 17/20\n",
      " - 1s - loss: 1.0222 - acc: 0.6401 - val_loss: 0.9328 - val_acc: 0.6724\n",
      "Epoch 18/20\n",
      " - 1s - loss: 1.0064 - acc: 0.6447 - val_loss: 0.9579 - val_acc: 0.6684\n",
      "Epoch 19/20\n",
      " - 1s - loss: 0.9544 - acc: 0.6664 - val_loss: 0.9194 - val_acc: 0.6697\n",
      "Epoch 20/20\n",
      " - 1s - loss: 0.9514 - acc: 0.6740 - val_loss: 0.8946 - val_acc: 0.6895\n"
     ]
    }
   ],
   "source": [
    "model.compile('adam', 'categorical_crossentropy', ['accuracy'])\n",
    "history = model.fit(X_normalized, y_one_hot, nb_epoch=20, validation_split=0.20, verbose=2, shuffle=True)"
   ]
  },
  {
   "cell_type": "code",
   "execution_count": 105,
   "metadata": {},
   "outputs": [
    {
     "name": "stdout",
     "output_type": "stream",
     "text": [
      "950/950 [==============================] - 0s 130us/step\n"
     ]
    },
    {
     "data": {
      "text/plain": [
       "[0.9969485611664621, 0.6410526314534639]"
      ]
     },
     "execution_count": 105,
     "metadata": {},
     "output_type": "execute_result"
    }
   ],
   "source": [
    "test_score = model.evaluate(X_normalized_test, y_one_hot_test)\n",
    "test_score"
   ]
  },
  {
   "cell_type": "code",
   "execution_count": null,
   "metadata": {
    "collapsed": true
   },
   "outputs": [],
   "source": []
  },
  {
   "cell_type": "code",
   "execution_count": null,
   "metadata": {
    "collapsed": true
   },
   "outputs": [],
   "source": []
  },
  {
   "cell_type": "code",
   "execution_count": 182,
   "metadata": {},
   "outputs": [
    {
     "name": "stderr",
     "output_type": "stream",
     "text": [
      "/usr/local/lib/python3.5/dist-packages/ipykernel_launcher.py:6: UserWarning: Update your `Conv2D` call to the Keras 2 API: `Conv2D(32, (4, 4), activation=\"relu\", input_shape=(32, 32, 3...)`\n",
      "  \n",
      "/usr/local/lib/python3.5/dist-packages/ipykernel_launcher.py:10: UserWarning: Update your `Conv2D` call to the Keras 2 API: `Conv2D(64, (4, 4), activation=\"relu\")`\n",
      "  # Remove the CWD from sys.path while we load stuff.\n"
     ]
    }
   ],
   "source": [
    "\n",
    "\n",
    "# Creación del modelo convolucional con pooling\n",
    "model = Sequential()\n",
    "\n",
    "model.add(Convolution2D(32, 4, 4, input_shape=(32, 32, 3), activation=\"relu\"))\n",
    "model.add(MaxPooling2D((3, 3)))\n",
    "model.add(Dropout(0.25))\n",
    "\n",
    "model.add(Convolution2D(64, 4, 4, activation=\"relu\"))\n",
    "model.add(MaxPooling2D((3, 3)))\n",
    "model.add(Dropout(0.5))\n",
    "\n",
    "model.add(Flatten())\n",
    "\n",
    "model.add(Dense(512, activation=\"relu\"))\n",
    "\n",
    "model.add(Dense(12, activation=\"softmax\"))\n",
    "\n"
   ]
  },
  {
   "cell_type": "code",
   "execution_count": 183,
   "metadata": {},
   "outputs": [
    {
     "name": "stdout",
     "output_type": "stream",
     "text": [
      "Epoch 1/20\n",
      "500/500 [==============================] - 6s 12ms/step - loss: 2.3103 - acc: 0.1834 - val_loss: 2.0248 - val_acc: 0.2779\n",
      "Epoch 2/20\n",
      "500/500 [==============================] - 5s 10ms/step - loss: 2.0613 - acc: 0.2768 - val_loss: 1.9283 - val_acc: 0.3263\n",
      "Epoch 3/20\n",
      "500/500 [==============================] - 5s 10ms/step - loss: 1.9388 - acc: 0.3244 - val_loss: 1.6577 - val_acc: 0.4274\n",
      "Epoch 4/20\n",
      "500/500 [==============================] - 5s 10ms/step - loss: 1.8514 - acc: 0.3601 - val_loss: 1.5908 - val_acc: 0.4221\n",
      "Epoch 5/20\n",
      "500/500 [==============================] - 5s 10ms/step - loss: 1.8315 - acc: 0.3605 - val_loss: 1.5421 - val_acc: 0.4716\n",
      "Epoch 6/20\n",
      "500/500 [==============================] - 5s 10ms/step - loss: 1.7772 - acc: 0.3747 - val_loss: 1.6871 - val_acc: 0.3779\n",
      "Epoch 7/20\n",
      "500/500 [==============================] - 5s 10ms/step - loss: 1.7571 - acc: 0.3806 - val_loss: 1.4409 - val_acc: 0.4916\n",
      "Epoch 8/20\n",
      "500/500 [==============================] - 5s 10ms/step - loss: 1.7261 - acc: 0.3890 - val_loss: 1.4297 - val_acc: 0.4726\n",
      "Epoch 9/20\n",
      "500/500 [==============================] - 5s 10ms/step - loss: 1.7274 - acc: 0.4029 - val_loss: 1.3730 - val_acc: 0.5463\n",
      "Epoch 10/20\n",
      "500/500 [==============================] - 5s 10ms/step - loss: 1.6814 - acc: 0.4139 - val_loss: 1.3455 - val_acc: 0.5263\n",
      "Epoch 11/20\n",
      "500/500 [==============================] - 5s 10ms/step - loss: 1.6871 - acc: 0.4106 - val_loss: 1.3601 - val_acc: 0.5284\n",
      "Epoch 12/20\n",
      "500/500 [==============================] - 5s 10ms/step - loss: 1.6699 - acc: 0.4229 - val_loss: 1.3460 - val_acc: 0.5358\n",
      "Epoch 13/20\n",
      "500/500 [==============================] - 5s 10ms/step - loss: 1.6372 - acc: 0.4319 - val_loss: 1.3619 - val_acc: 0.4758\n",
      "Epoch 14/20\n",
      "500/500 [==============================] - 5s 10ms/step - loss: 1.6261 - acc: 0.4292 - val_loss: 1.4105 - val_acc: 0.4758\n",
      "Epoch 15/20\n",
      "500/500 [==============================] - 5s 10ms/step - loss: 1.6369 - acc: 0.4341 - val_loss: 1.3434 - val_acc: 0.5547\n",
      "Epoch 16/20\n",
      "500/500 [==============================] - 5s 10ms/step - loss: 1.6165 - acc: 0.4363 - val_loss: 1.2781 - val_acc: 0.5821\n",
      "Epoch 17/20\n",
      "500/500 [==============================] - 5s 10ms/step - loss: 1.6015 - acc: 0.4446 - val_loss: 1.2665 - val_acc: 0.5705\n",
      "Epoch 18/20\n",
      "500/500 [==============================] - 5s 10ms/step - loss: 1.5897 - acc: 0.4464 - val_loss: 1.4123 - val_acc: 0.4853\n",
      "Epoch 19/20\n",
      "500/500 [==============================] - 5s 10ms/step - loss: 1.5810 - acc: 0.4534 - val_loss: 1.2382 - val_acc: 0.5916\n",
      "Epoch 20/20\n",
      "500/500 [==============================] - 5s 10ms/step - loss: 1.5649 - acc: 0.4544 - val_loss: 1.2381 - val_acc: 0.6095\n"
     ]
    },
    {
     "data": {
      "text/plain": [
       "<keras.callbacks.History at 0x7ff9255e8da0>"
      ]
     },
     "execution_count": 183,
     "metadata": {},
     "output_type": "execute_result"
    }
   ],
   "source": [
    "BATCH_SIZE = 16\n",
    "EPOCHS = 20\n",
    "model.compile('adam', 'categorical_crossentropy', ['accuracy'])\n",
    "gen = ImageDataGenerator(\n",
    "            rotation_range=360.,\n",
    "            width_shift_range=0.5,\n",
    "            height_shift_range=0.5,\n",
    "            zoom_range=0.5,\n",
    "            horizontal_flip=True,\n",
    "            vertical_flip=True\n",
    "    )\n",
    "model.fit_generator(gen.flow(X_normalized, y_one_hot,batch_size=BATCH_SIZE),\n",
    "               steps_per_epoch=500,\n",
    "               epochs=EPOCHS,\n",
    "               verbose=1,\n",
    "               shuffle=True,\n",
    "               validation_data=(X_normalized_test, y_one_hot_test))"
   ]
  },
  {
   "cell_type": "code",
   "execution_count": 184,
   "metadata": {},
   "outputs": [
    {
     "name": "stdout",
     "output_type": "stream",
     "text": [
      "Train on 3040 samples, validate on 760 samples\n",
      "Epoch 1/20\n"
     ]
    },
    {
     "name": "stderr",
     "output_type": "stream",
     "text": [
      "/usr/local/lib/python3.5/dist-packages/keras/models.py:942: UserWarning: The `nb_epoch` argument in `fit` has been renamed `epochs`.\n",
      "  warnings.warn('The `nb_epoch` argument in `fit` '\n"
     ]
    },
    {
     "name": "stdout",
     "output_type": "stream",
     "text": [
      " - 1s - loss: 1.2189 - acc: 0.5589 - val_loss: 1.0864 - val_acc: 0.6329\n",
      "Epoch 2/20\n",
      " - 1s - loss: 1.1228 - acc: 0.6033 - val_loss: 0.9824 - val_acc: 0.6579\n",
      "Epoch 3/20\n",
      " - 1s - loss: 1.0847 - acc: 0.6036 - val_loss: 1.0050 - val_acc: 0.6605\n",
      "Epoch 4/20\n",
      " - 1s - loss: 1.0460 - acc: 0.6201 - val_loss: 0.9675 - val_acc: 0.6566\n",
      "Epoch 5/20\n",
      " - 1s - loss: 1.0232 - acc: 0.6339 - val_loss: 0.9408 - val_acc: 0.6816\n",
      "Epoch 6/20\n",
      " - 1s - loss: 0.9830 - acc: 0.6516 - val_loss: 0.9891 - val_acc: 0.6329\n",
      "Epoch 7/20\n",
      " - 1s - loss: 0.9611 - acc: 0.6582 - val_loss: 0.9478 - val_acc: 0.6487\n",
      "Epoch 8/20\n",
      " - 1s - loss: 0.9413 - acc: 0.6664 - val_loss: 0.8722 - val_acc: 0.6829\n",
      "Epoch 9/20\n",
      " - 1s - loss: 0.9347 - acc: 0.6678 - val_loss: 0.8652 - val_acc: 0.6974\n",
      "Epoch 10/20\n",
      " - 1s - loss: 0.9235 - acc: 0.6757 - val_loss: 0.8336 - val_acc: 0.7039\n",
      "Epoch 11/20\n",
      " - 1s - loss: 0.9096 - acc: 0.6770 - val_loss: 0.9552 - val_acc: 0.6276\n",
      "Epoch 12/20\n",
      " - 1s - loss: 0.8762 - acc: 0.7000 - val_loss: 0.8493 - val_acc: 0.6895\n",
      "Epoch 13/20\n",
      " - 1s - loss: 0.8742 - acc: 0.6931 - val_loss: 0.8293 - val_acc: 0.7000\n",
      "Epoch 14/20\n",
      " - 1s - loss: 0.8486 - acc: 0.6990 - val_loss: 0.8167 - val_acc: 0.7079\n",
      "Epoch 15/20\n",
      " - 1s - loss: 0.8403 - acc: 0.7056 - val_loss: 0.7868 - val_acc: 0.7184\n",
      "Epoch 16/20\n",
      " - 1s - loss: 0.8076 - acc: 0.7155 - val_loss: 0.8324 - val_acc: 0.7053\n",
      "Epoch 17/20\n",
      " - 1s - loss: 0.8230 - acc: 0.7135 - val_loss: 0.8012 - val_acc: 0.7092\n",
      "Epoch 18/20\n",
      " - 1s - loss: 0.7831 - acc: 0.7181 - val_loss: 0.7819 - val_acc: 0.7184\n",
      "Epoch 19/20\n",
      " - 1s - loss: 0.7524 - acc: 0.7260 - val_loss: 0.7453 - val_acc: 0.7500\n",
      "Epoch 20/20\n",
      " - 1s - loss: 0.7650 - acc: 0.7191 - val_loss: 0.7637 - val_acc: 0.7276\n"
     ]
    }
   ],
   "source": [
    "# model.compile('adam', 'categorical_crossentropy', ['accuracy'])\n",
    "history = model.fit(X_normalized, y_one_hot, nb_epoch=20, validation_split=0.20, verbose=2, shuffle=True)"
   ]
  },
  {
   "cell_type": "code",
   "execution_count": 185,
   "metadata": {},
   "outputs": [
    {
     "name": "stdout",
     "output_type": "stream",
     "text": [
      "950/950 [==============================] - 0s 158us/step\n"
     ]
    },
    {
     "data": {
      "text/plain": [
       "[0.865764540120175, 0.7084210528825459]"
      ]
     },
     "execution_count": 185,
     "metadata": {},
     "output_type": "execute_result"
    }
   ],
   "source": [
    "test_score = model.evaluate(X_normalized_test, y_one_hot_test)\n",
    "test_score"
   ]
  },
  {
   "cell_type": "code",
   "execution_count": 149,
   "metadata": {},
   "outputs": [
    {
     "data": {
      "text/plain": [
       "0.7231578946113586"
      ]
     },
     "execution_count": 149,
     "metadata": {},
     "output_type": "execute_result"
    }
   ],
   "source": [
    "test_score[1]"
   ]
  },
  {
   "cell_type": "code",
   "execution_count": null,
   "metadata": {
    "collapsed": true
   },
   "outputs": [],
   "source": []
  },
  {
   "cell_type": "code",
   "execution_count": null,
   "metadata": {
    "collapsed": true
   },
   "outputs": [],
   "source": []
  },
  {
   "cell_type": "code",
   "execution_count": 150,
   "metadata": {},
   "outputs": [
    {
     "name": "stderr",
     "output_type": "stream",
     "text": [
      "/usr/local/lib/python3.5/dist-packages/ipykernel_launcher.py:3: UserWarning: Update your `Conv2D` call to the Keras 2 API: `Conv2D(32, (3, 3), activation=\"relu\", input_shape=(32, 32, 3...)`\n",
      "  This is separate from the ipykernel package so we can avoid doing imports until\n",
      "/usr/local/lib/python3.5/dist-packages/ipykernel_launcher.py:4: UserWarning: Update your `Conv2D` call to the Keras 2 API: `Conv2D(64, (3, 3), activation=\"relu\")`\n",
      "  after removing the cwd from sys.path.\n"
     ]
    }
   ],
   "source": [
    "model = Sequential()\n",
    "\n",
    "model.add(Convolution2D(32, 3, 3, input_shape=(32, 32, 3), activation=\"relu\"))\n",
    "model.add(Convolution2D(64, 3, 3, activation=\"relu\"))\n",
    "model.add(MaxPooling2D((2, 2)))\n",
    "model.add(Dropout(0.25))\n",
    "\n",
    "model.add(Flatten())\n",
    "\n",
    "model.add(Dense(512, activation=\"relu\"))\n",
    "model.add(Dropout(0.5))\n",
    "\n",
    "model.add(Dense(12, activation=\"softmax\"))"
   ]
  },
  {
   "cell_type": "code",
   "execution_count": 155,
   "metadata": {
    "collapsed": true
   },
   "outputs": [],
   "source": [
    "from keras.preprocessing.image import ImageDataGenerator"
   ]
  },
  {
   "cell_type": "code",
   "execution_count": 160,
   "metadata": {},
   "outputs": [
    {
     "name": "stdout",
     "output_type": "stream",
     "text": [
      "Epoch 1/5\n",
      "100/100 [==============================] - 8s 76ms/step - loss: 1.2468 - acc: 0.5713 - val_loss: 1.0129 - val_acc: 0.6547\n",
      "Epoch 2/5\n",
      "100/100 [==============================] - 8s 75ms/step - loss: 1.2271 - acc: 0.5637 - val_loss: 0.9720 - val_acc: 0.6768\n",
      "Epoch 3/5\n",
      "100/100 [==============================] - 8s 75ms/step - loss: 1.2022 - acc: 0.5906 - val_loss: 0.9438 - val_acc: 0.6926\n",
      "Epoch 4/5\n",
      "100/100 [==============================] - 8s 76ms/step - loss: 1.1752 - acc: 0.5913 - val_loss: 1.0310 - val_acc: 0.6442\n",
      "Epoch 5/5\n",
      "100/100 [==============================] - 8s 76ms/step - loss: 1.1936 - acc: 0.5912 - val_loss: 0.9411 - val_acc: 0.7116\n"
     ]
    },
    {
     "data": {
      "text/plain": [
       "<keras.callbacks.History at 0x7ff96a4e5f60>"
      ]
     },
     "execution_count": 160,
     "metadata": {},
     "output_type": "execute_result"
    }
   ],
   "source": [
    "BATCH_SIZE = 16\n",
    "EPOCHS = 5\n",
    "gen = ImageDataGenerator(\n",
    "            rotation_range=360.,\n",
    "            width_shift_range=0.3,\n",
    "            height_shift_range=0.3,\n",
    "            zoom_range=0.3,\n",
    "            horizontal_flip=True,\n",
    "            vertical_flip=True\n",
    "    )\n",
    "model.fit_generator(gen.flow(X_normalized, y_one_hot,batch_size=BATCH_SIZE),\n",
    "               steps_per_epoch=100,\n",
    "               epochs=EPOCHS,\n",
    "               verbose=1,\n",
    "               shuffle=True,\n",
    "               validation_data=(X_normalized_test, y_one_hot_test))"
   ]
  },
  {
   "cell_type": "code",
   "execution_count": 161,
   "metadata": {},
   "outputs": [
    {
     "name": "stderr",
     "output_type": "stream",
     "text": [
      "/usr/local/lib/python3.5/dist-packages/keras/models.py:942: UserWarning: The `nb_epoch` argument in `fit` has been renamed `epochs`.\n",
      "  warnings.warn('The `nb_epoch` argument in `fit` '\n"
     ]
    },
    {
     "name": "stdout",
     "output_type": "stream",
     "text": [
      "Train on 3040 samples, validate on 760 samples\n",
      "Epoch 1/20\n",
      " - 9s - loss: 0.7496 - acc: 0.7306 - val_loss: 0.7816 - val_acc: 0.7447\n",
      "Epoch 2/20\n",
      " - 8s - loss: 0.3566 - acc: 0.8885 - val_loss: 0.6751 - val_acc: 0.7921\n",
      "Epoch 3/20\n",
      " - 8s - loss: 0.1938 - acc: 0.9368 - val_loss: 0.8933 - val_acc: 0.7553\n",
      "Epoch 4/20\n",
      " - 8s - loss: 0.1275 - acc: 0.9569 - val_loss: 0.8678 - val_acc: 0.7697\n",
      "Epoch 5/20\n",
      " - 8s - loss: 0.0925 - acc: 0.9704 - val_loss: 0.8975 - val_acc: 0.7947\n",
      "Epoch 6/20\n",
      " - 8s - loss: 0.0706 - acc: 0.9773 - val_loss: 1.0798 - val_acc: 0.7539\n",
      "Epoch 7/20\n",
      " - 8s - loss: 0.0584 - acc: 0.9813 - val_loss: 0.9133 - val_acc: 0.7974\n",
      "Epoch 8/20\n",
      " - 9s - loss: 0.0643 - acc: 0.9793 - val_loss: 0.9538 - val_acc: 0.7724\n",
      "Epoch 9/20\n",
      " - 9s - loss: 0.0543 - acc: 0.9832 - val_loss: 0.9795 - val_acc: 0.7789\n",
      "Epoch 10/20\n",
      " - 8s - loss: 0.0706 - acc: 0.9773 - val_loss: 1.0376 - val_acc: 0.7882\n",
      "Epoch 11/20\n",
      " - 9s - loss: 0.0362 - acc: 0.9888 - val_loss: 1.0725 - val_acc: 0.7763\n",
      "Epoch 12/20\n",
      " - 9s - loss: 0.0333 - acc: 0.9914 - val_loss: 1.1665 - val_acc: 0.7711\n",
      "Epoch 13/20\n",
      " - 9s - loss: 0.0401 - acc: 0.9888 - val_loss: 1.1869 - val_acc: 0.7724\n",
      "Epoch 14/20\n",
      " - 9s - loss: 0.0416 - acc: 0.9859 - val_loss: 1.0367 - val_acc: 0.7987\n",
      "Epoch 15/20\n",
      " - 9s - loss: 0.0493 - acc: 0.9842 - val_loss: 1.3343 - val_acc: 0.7368\n",
      "Epoch 16/20\n",
      " - 9s - loss: 0.0307 - acc: 0.9918 - val_loss: 1.1690 - val_acc: 0.7711\n",
      "Epoch 17/20\n",
      " - 9s - loss: 0.0170 - acc: 0.9954 - val_loss: 1.2597 - val_acc: 0.7684\n",
      "Epoch 18/20\n",
      " - 10s - loss: 0.0217 - acc: 0.9938 - val_loss: 1.3286 - val_acc: 0.7303\n",
      "Epoch 19/20\n",
      " - 9s - loss: 0.0210 - acc: 0.9931 - val_loss: 1.2202 - val_acc: 0.7684\n",
      "Epoch 20/20\n",
      " - 9s - loss: 0.0212 - acc: 0.9941 - val_loss: 1.2583 - val_acc: 0.7592\n"
     ]
    }
   ],
   "source": [
    "model.compile(\"adam\", 'categorical_crossentropy', ['accuracy'])\n",
    "history = model.fit(X_normalized, y_one_hot, nb_epoch=20, validation_split=0.20, verbose=2, shuffle=True)"
   ]
  },
  {
   "cell_type": "code",
   "execution_count": 162,
   "metadata": {},
   "outputs": [
    {
     "name": "stdout",
     "output_type": "stream",
     "text": [
      "950/950 [==============================] - 0s 486us/step\n"
     ]
    },
    {
     "data": {
      "text/plain": [
       "[1.5361323025352076, 0.7178947367166219]"
      ]
     },
     "execution_count": 162,
     "metadata": {},
     "output_type": "execute_result"
    }
   ],
   "source": [
    "test_score = model.evaluate(X_normalized_test, y_one_hot_test)\n",
    "test_score"
   ]
  }
 ],
 "metadata": {
  "kernelspec": {
   "display_name": "Python 3",
   "language": "python",
   "name": "python3"
  },
  "language_info": {
   "codemirror_mode": {
    "name": "ipython",
    "version": 3
   },
   "file_extension": ".py",
   "mimetype": "text/x-python",
   "name": "python",
   "nbconvert_exporter": "python",
   "pygments_lexer": "ipython3",
   "version": "3.5.2"
  }
 },
 "nbformat": 4,
 "nbformat_minor": 2
}
